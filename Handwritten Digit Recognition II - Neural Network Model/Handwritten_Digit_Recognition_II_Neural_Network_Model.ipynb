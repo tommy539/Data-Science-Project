{
  "nbformat": 4,
  "nbformat_minor": 0,
  "metadata": {
    "colab": {
      "name": "Handwritten Digit Recognition II - Neural Network Model",
      "provenance": [],
      "collapsed_sections": [],
      "authorship_tag": "ABX9TyO2zQxa4VNlFPJysDZ1ypH5",
      "include_colab_link": true
    },
    "kernelspec": {
      "name": "python3",
      "display_name": "Python 3"
    }
  },
  "cells": [
    {
      "cell_type": "markdown",
      "metadata": {
        "id": "view-in-github",
        "colab_type": "text"
      },
      "source": [
        "<a href=\"https://colab.research.google.com/github/tommy539/Data-Science-Project/blob/master/Handwritten%20Digit%20Recognition%20II%20-%20Neural%20Network%20Model/Handwritten_Digit_Recognition_II_Neural_Network_Model.ipynb\" target=\"_parent\"><img src=\"https://colab.research.google.com/assets/colab-badge.svg\" alt=\"Open In Colab\"/></a>"
      ]
    },
    {
      "cell_type": "markdown",
      "metadata": {
        "id": "Z6Jv95BOVYJR",
        "colab_type": "text"
      },
      "source": [
        "# Handwritten Digit Recognition II - Neural Network Model\n",
        "In the first part of the handwritten digit recognition, I have used several 'shallow' learning - logistic regression, SVM, random forest and K-nearest neighbour to read the handwritten digits. The best result was 97% given by K-nearest neighbour model with almost 2 hours running time.\n",
        "\n",
        "Although KNN gives a great result on the digit prediction, it requires a long running time to read the digits. It is due to the mechanism of KNN where for every data (digit), it has to compare with all the data existing in the dataset to find out the nearest k neighbours. It will take a long running time especially when the dataset is huge.\n",
        "\n",
        "In this project, I would further investigate the method to read handwritten digits in deep learning - Convolutional Neural Network.\n",
        "\n",
        "## Convolutional Neural Network \n",
        "Convolutional Neural Network (CNN) is one type of neural network models. It is proven strong to deal with image recognition and classification. It expects input in the form of the matrix, therefore images are suitable in this case. It firstly zooms the images into a smaller level - we called this step Convolution. Between each zooming, some actions can be done to extract features from the sub-images during each zooming - this is called Pooling. Hence, these zoomed sub-images are then connected to form a neural network to perform the optimization to find the best parameters to predict/ classify the images. The following picture illustrates the basic idea of Convolutional Neural Network model. \n",
        "![CNN illustration](http://www.wildml.com/wp-content/uploads/2015/11/Screen-Shot-2015-11-07-at-7.26.20-AM.png)\n",
        "\n"
      ]
    },
    {
      "cell_type": "markdown",
      "metadata": {
        "id": "lr3zOOkJp8CL",
        "colab_type": "text"
      },
      "source": [
        "# Library Import"
      ]
    },
    {
      "cell_type": "code",
      "metadata": {
        "id": "LjroIoUPuuCI",
        "colab_type": "code",
        "colab": {}
      },
      "source": [
        "from matplotlib import pyplot as plt\n",
        "import numpy as np\n",
        "import os"
      ],
      "execution_count": 0,
      "outputs": []
    },
    {
      "cell_type": "code",
      "metadata": {
        "id": "AoLp7FY_uO1G",
        "colab_type": "code",
        "colab": {}
      },
      "source": [
        "from keras.datasets import mnist # data import\n",
        "from keras.utils import np_utils # data preprocessing\n",
        "\n",
        "# NN model setup\n",
        "from keras.models import Sequential \n",
        "from keras.layers import Dense, Dropout, Activation, Flatten\n",
        "from keras.layers import Convolution2D, MaxPooling2D, Conv2D"
      ],
      "execution_count": 0,
      "outputs": []
    },
    {
      "cell_type": "markdown",
      "metadata": {
        "id": "See3SY2FqEWe",
        "colab_type": "text"
      },
      "source": [
        "# Data Loading and preprocessing\n",
        "Keras library also contains the mnist handwritten digits dataset so we can easily import by keras."
      ]
    },
    {
      "cell_type": "code",
      "metadata": {
        "id": "XuDkQ8njuX9b",
        "colab_type": "code",
        "colab": {}
      },
      "source": [
        "# Load pre-shuffled MNIST data into train and test sets\n",
        "(X_train, y_train), (X_test, y_test) = mnist.load_data()"
      ],
      "execution_count": 0,
      "outputs": []
    },
    {
      "cell_type": "code",
      "metadata": {
        "id": "jKiWHzEtucjA",
        "colab_type": "code",
        "outputId": "723f3e83-44a5-46f6-bcb6-ba17089e3d64",
        "colab": {
          "base_uri": "https://localhost:8080/",
          "height": 51
        }
      },
      "source": [
        "print (X_train.shape)\n",
        "print (X_test.shape)"
      ],
      "execution_count": 51,
      "outputs": [
        {
          "output_type": "stream",
          "text": [
            "(60000, 28, 28)\n",
            "(10000, 28, 28)\n"
          ],
          "name": "stdout"
        }
      ]
    },
    {
      "cell_type": "markdown",
      "metadata": {
        "id": "SFKopjF-_h71",
        "colab_type": "text"
      },
      "source": [
        "The data in Keras library contains 70000 digits with labels of digits that they are represented.\n",
        "\n",
        "Let's have a look of some of the digits."
      ]
    },
    {
      "cell_type": "code",
      "metadata": {
        "id": "CcZ3gCpSugo5",
        "colab_type": "code",
        "outputId": "e916bba9-6b99-4232-8ada-faf9984e441e",
        "colab": {
          "base_uri": "https://localhost:8080/",
          "height": 310
        }
      },
      "source": [
        "plt.figure(figsize=(10,5))\n",
        "for index, (image, label) in enumerate(zip(X_train[0:10], y_train[0:10])):\n",
        "    plt.subplot(2, 5, index + 1)\n",
        "    plt.imshow(np.reshape(image, (28,28)), cmap='Greys')\n",
        "    plt.title('%i' % label, fontsize = 15)"
      ],
      "execution_count": 22,
      "outputs": [
        {
          "output_type": "display_data",
          "data": {
            "image/png": "[encoded data removed]",
            "text/plain": [
              "<Figure size 720x360 with 10 Axes>"
            ]
          },
          "metadata": {
            "tags": [],
            "needs_background": "light"
          }
        }
      ]
    },
    {
      "cell_type": "markdown",
      "metadata": {
        "id": "8SFIRgBQ_8fT",
        "colab_type": "text"
      },
      "source": [
        "Before starting the CNN model, the dataset needs to be restructured for the model. They will be reshaped in from (28x28) to (28x28x1) where one is representing the greyscale of their colour."
      ]
    },
    {
      "cell_type": "code",
      "metadata": {
        "colab_type": "code",
        "id": "xgoymsYk3-kC",
        "colab": {}
      },
      "source": [
        "X_train = X_train.reshape(X_train.shape[0],28,28,1)\n",
        "X_test = X_test.reshape(X_test.shape[0],28,28,1)"
      ],
      "execution_count": 0,
      "outputs": []
    },
    {
      "cell_type": "code",
      "metadata": {
        "id": "RduX1Vbxx6jv",
        "colab_type": "code",
        "outputId": "7f87462c-ea8f-423b-f68b-37890a9beb3d",
        "colab": {
          "base_uri": "https://localhost:8080/",
          "height": 34
        }
      },
      "source": [
        "print (X_train.shape)"
      ],
      "execution_count": 24,
      "outputs": [
        {
          "output_type": "stream",
          "text": [
            "(60000, 28, 28, 1)\n"
          ],
          "name": "stdout"
        }
      ]
    },
    {
      "cell_type": "markdown",
      "metadata": {
        "id": "QTCOplJXAaLq",
        "colab_type": "text"
      },
      "source": [
        "The images are represented by 28x28 pixels with values of 0 to 255 to represent the colour of each of the pixel.\n",
        "\n",
        "The value ranging from 0 to 255 will also be rescaled into 0 to 1 by dividing by 255 - we called this Pixel Normalization. This move lowers the value size in our data and it can prevent the huge number driving the model away and also reduce the impact of noise."
      ]
    },
    {
      "cell_type": "code",
      "metadata": {
        "id": "PemHLKDgu7oH",
        "colab_type": "code",
        "colab": {}
      },
      "source": [
        "X_train = X_train.astype('float32')\n",
        "X_test = X_test.astype('float32')\n",
        "X_train /= 255\n",
        "X_test /= 255"
      ],
      "execution_count": 0,
      "outputs": []
    },
    {
      "cell_type": "markdown",
      "metadata": {
        "id": "4kVyAqhaCyiN",
        "colab_type": "text"
      },
      "source": [
        "Let's have a look at the target labels."
      ]
    },
    {
      "cell_type": "code",
      "metadata": {
        "id": "x4u5mA3evXSo",
        "colab_type": "code",
        "outputId": "f05170d8-6148-48f5-9673-f91a07e30d79",
        "colab": {
          "base_uri": "https://localhost:8080/",
          "height": 34
        }
      },
      "source": [
        "y_train[0:10]"
      ],
      "execution_count": 52,
      "outputs": [
        {
          "output_type": "execute_result",
          "data": {
            "text/plain": [
              "array([5, 0, 4, 1, 9, 2, 1, 3, 1, 4], dtype=uint8)"
            ]
          },
          "metadata": {
            "tags": []
          },
          "execution_count": 52
        }
      ]
    },
    {
      "cell_type": "markdown",
      "metadata": {
        "id": "oaHm4tIzCXt3",
        "colab_type": "text"
      },
      "source": [
        "For the target labels, they are represented by numbers from 0-9. However, in the CNN model, we expect the target variable in the form of matrix. In this case, each numerical value should be represented by a matrix with a length of 10. For example, [1,0,0,0,0,0,0,0,0,0] represents 0 and [0,0,0,1,0,0,0,0,0,0] represents 3.\n",
        "\n",
        "Therefore, it will be transformed by using the utility function np_utils from keras library."
      ]
    },
    {
      "cell_type": "code",
      "metadata": {
        "id": "Gq2VmaKdwC7c",
        "colab_type": "code",
        "colab": {}
      },
      "source": [
        "# Convert 1-dimensional class arrays to 10-dimensional class matrices\n",
        "Y_train = np_utils.to_categorical(y_train, 10)\n",
        "Y_test = np_utils.to_categorical(y_test, 10)"
      ],
      "execution_count": 0,
      "outputs": []
    },
    {
      "cell_type": "code",
      "metadata": {
        "id": "wxlv2F-RwGas",
        "colab_type": "code",
        "outputId": "ae1f98f7-d44e-4a75-ac1c-8b734a60bd96",
        "colab": {
          "base_uri": "https://localhost:8080/",
          "height": 34
        }
      },
      "source": [
        "print(Y_train.shape)"
      ],
      "execution_count": 28,
      "outputs": [
        {
          "output_type": "stream",
          "text": [
            "(60000, 10)\n"
          ],
          "name": "stdout"
        }
      ]
    },
    {
      "cell_type": "markdown",
      "metadata": {
        "id": "ba3LAbHqDwyq",
        "colab_type": "text"
      },
      "source": [
        "Okay, so now everything is ready for the Convolutional Neural Network model."
      ]
    },
    {
      "cell_type": "markdown",
      "metadata": {
        "id": "-Y4lVEkEwV4I",
        "colab_type": "text"
      },
      "source": [
        "# Build the Convolutional Neural Network model\n",
        "From the experience of previous shallow learning, the handwritten digits can be easily read with high accuracy. Therefore, it is reasonable to suggest that CNN would not require a highly complicated network.\n",
        "\n",
        "To illustrate the CNN model, I will use a 3-layer CNN model.\n"
      ]
    },
    {
      "cell_type": "code",
      "metadata": {
        "id": "kF6eUAzW4rRF",
        "colab_type": "code",
        "colab": {}
      },
      "source": [
        "# CNN for graphic data\n",
        "#create model\n",
        "model = Sequential()\n",
        "#add model layers\n",
        "model.add(Conv2D(64, kernel_size=3, activation='relu', input_shape=(28,28,1)))\n",
        "model.add(Conv2D(32, kernel_size=3, activation='relu'))\n",
        "model.add(Flatten())\n",
        "model.add(Dense(10, activation='softmax'))"
      ],
      "execution_count": 0,
      "outputs": []
    },
    {
      "cell_type": "code",
      "metadata": {
        "id": "eRpSxcv4wlTk",
        "colab_type": "code",
        "colab": {}
      },
      "source": [
        "model.compile(loss='categorical_crossentropy',\n",
        "              optimizer='adam',\n",
        "              metrics=['accuracy'])"
      ],
      "execution_count": 0,
      "outputs": []
    },
    {
      "cell_type": "code",
      "metadata": {
        "id": "vBbwB3D2xa5v",
        "colab_type": "code",
        "outputId": "1713fc5d-b2a8-45e0-b56a-5739dc7aee0c",
        "colab": {
          "base_uri": "https://localhost:8080/",
          "height": 408
        }
      },
      "source": [
        "%%time\n",
        "# training the model and saving metrics in history\n",
        "cnn = model.fit(X_train, Y_train,\n",
        "          batch_size=128, epochs=10,\n",
        "          verbose=2,\n",
        "          validation_data=(X_test, Y_test))"
      ],
      "execution_count": 33,
      "outputs": [
        {
          "output_type": "stream",
          "text": [
            "Train on 60000 samples, validate on 10000 samples\n",
            "Epoch 1/10\n",
            " - 141s - loss: 0.1646 - accuracy: 0.9515 - val_loss: 0.0682 - val_accuracy: 0.9805\n",
            "Epoch 2/10\n",
            " - 140s - loss: 0.0558 - accuracy: 0.9831 - val_loss: 0.0505 - val_accuracy: 0.9821\n",
            "Epoch 3/10\n",
            " - 139s - loss: 0.0379 - accuracy: 0.9885 - val_loss: 0.0446 - val_accuracy: 0.9859\n",
            "Epoch 4/10\n",
            " - 139s - loss: 0.0282 - accuracy: 0.9912 - val_loss: 0.0411 - val_accuracy: 0.9862\n",
            "Epoch 5/10\n",
            " - 137s - loss: 0.0204 - accuracy: 0.9938 - val_loss: 0.0501 - val_accuracy: 0.9848\n",
            "Epoch 6/10\n",
            " - 135s - loss: 0.0161 - accuracy: 0.9945 - val_loss: 0.0486 - val_accuracy: 0.9860\n",
            "Epoch 7/10\n",
            " - 133s - loss: 0.0119 - accuracy: 0.9963 - val_loss: 0.0489 - val_accuracy: 0.9862\n",
            "Epoch 8/10\n",
            " - 132s - loss: 0.0106 - accuracy: 0.9966 - val_loss: 0.0519 - val_accuracy: 0.9852\n",
            "Epoch 9/10\n",
            " - 133s - loss: 0.0070 - accuracy: 0.9977 - val_loss: 0.0531 - val_accuracy: 0.9858\n",
            "Epoch 10/10\n",
            " - 133s - loss: 0.0085 - accuracy: 0.9971 - val_loss: 0.0554 - val_accuracy: 0.9872\n",
            "CPU times: user 42min 35s, sys: 36.5 s, total: 43min 12s\n",
            "Wall time: 22min 40s\n"
          ],
          "name": "stdout"
        }
      ]
    },
    {
      "cell_type": "markdown",
      "metadata": {
        "id": "tZvigEmSEk2O",
        "colab_type": "text"
      },
      "source": [
        "With around 45 mins training time, the Convolutional Neural Network model gives 98.7% on validation data. The graph below also shows the accuracy and loss during the model training."
      ]
    },
    {
      "cell_type": "code",
      "metadata": {
        "id": "S7uILP1c8tH4",
        "colab_type": "code",
        "colab": {
          "base_uri": "https://localhost:8080/",
          "height": 34
        },
        "outputId": "e0cadc7c-c03d-4636-e755-38af00cffc92"
      },
      "source": [
        "# saving the model\n",
        "save_dir = \"/\"\n",
        "model_name = 'cnn_mnist.h5'\n",
        "model_path = os.path.join(save_dir, model_name)\n",
        "model.save(model_path)\n",
        "print('Saved trained model at %s ' % model_path)"
      ],
      "execution_count": 39,
      "outputs": [
        {
          "output_type": "stream",
          "text": [
            "Saved trained model at /cnn_mnist.h5 \n"
          ],
          "name": "stdout"
        }
      ]
    },
    {
      "cell_type": "code",
      "metadata": {
        "id": "NrITNuQDxdKM",
        "colab_type": "code",
        "outputId": "56e42d0e-9952-4f2b-b6a6-6cfa7d0db9bd",
        "colab": {
          "base_uri": "https://localhost:8080/",
          "height": 297
        }
      },
      "source": [
        "# plotting the metrics\n",
        "fig = plt.figure()\n",
        "plt.subplot(2,1,1)\n",
        "plt.plot(cnn.history['accuracy'])\n",
        "plt.plot(cnn.history['val_accuracy'])\n",
        "plt.title('model accuracy')\n",
        "plt.ylabel('accuracy')\n",
        "plt.xlabel('epoch')\n",
        "plt.legend(['train', 'test'], loc='lower right')\n",
        "\n",
        "plt.subplot(2,1,2)\n",
        "plt.plot(cnn.history['loss'])\n",
        "plt.plot(cnn.history['val_loss'])\n",
        "plt.title('model loss')\n",
        "plt.ylabel('loss')\n",
        "plt.xlabel('epoch')\n",
        "plt.legend(['train', 'test'], loc='upper right')\n",
        "\n",
        "plt.tight_layout()"
      ],
      "execution_count": 40,
      "outputs": [
        {
          "output_type": "display_data",
          "data": {
            "image/png": "[encoded data removed]",
            "text/plain": [
              "<Figure size 432x288 with 2 Axes>"
            ]
          },
          "metadata": {
            "tags": [],
            "needs_background": "light"
          }
        }
      ]
    },
    {
      "cell_type": "markdown",
      "metadata": {
        "id": "5-TAz1PpFACK",
        "colab_type": "text"
      },
      "source": [
        "So now, we can use this trained CNN model to test our data. It takes around 8 seconds to read through 10000 digits with 98.7% accuracy!"
      ]
    },
    {
      "cell_type": "code",
      "metadata": {
        "id": "rMVs_XuD62kl",
        "colab_type": "code",
        "colab": {}
      },
      "source": [
        "# define a function to evaluate the predicting accuracy\n",
        "def accuracy(a,b):\n",
        "    return sum(a==b)/len(a)"
      ],
      "execution_count": 0,
      "outputs": []
    },
    {
      "cell_type": "code",
      "metadata": {
        "id": "RDKdeCb-63HW",
        "colab_type": "code",
        "colab": {
          "base_uri": "https://localhost:8080/",
          "height": 51
        },
        "outputId": "2f86ffa0-6ceb-43bd-d89e-068e471820cc"
      },
      "source": [
        "%%time\n",
        "#predict the images in the test set\n",
        "cnn_predict = model.predict(X_test)"
      ],
      "execution_count": 43,
      "outputs": [
        {
          "output_type": "stream",
          "text": [
            "CPU times: user 7.66 s, sys: 122 ms, total: 7.78 s\n",
            "Wall time: 4.27 s\n"
          ],
          "name": "stdout"
        }
      ]
    },
    {
      "cell_type": "code",
      "metadata": {
        "id": "rEsRYUNR_r4N",
        "colab_type": "code",
        "colab": {}
      },
      "source": [
        "digit = np.array([0,1,2,3,4,5,6,7,8,9])\n",
        "cnn_predict = np.dot(cnn_predict.round() , digit)"
      ],
      "execution_count": 0,
      "outputs": []
    },
    {
      "cell_type": "code",
      "metadata": {
        "id": "HQCTcy7V6_GD",
        "colab_type": "code",
        "outputId": "9b8a6445-a8ab-4687-dd02-ad4cd5553cbc",
        "colab": {
          "base_uri": "https://localhost:8080/",
          "height": 34
        }
      },
      "source": [
        "accuracy(cnn_predict,y_test)"
      ],
      "execution_count": 45,
      "outputs": [
        {
          "output_type": "execute_result",
          "data": {
            "text/plain": [
              "0.9867"
            ]
          },
          "metadata": {
            "tags": []
          },
          "execution_count": 45
        }
      ]
    },
    {
      "cell_type": "code",
      "metadata": {
        "id": "DODXrjdQ7eqc",
        "colab_type": "code",
        "colab": {}
      },
      "source": [
        "wrong_x = X_test[cnn_predict != y_test]\n",
        "wrong_y = cnn_predict[cnn_predict!= y_test]\n",
        "correct_y = y_test[cnn_predict != y_test]"
      ],
      "execution_count": 0,
      "outputs": []
    },
    {
      "cell_type": "code",
      "metadata": {
        "id": "A8QaTv2K7hJ0",
        "colab_type": "code",
        "outputId": "094577ac-0e53-46b7-edba-cf2582d0fce6",
        "colab": {
          "base_uri": "https://localhost:8080/",
          "height": 34
        }
      },
      "source": [
        "len(wrong_y)"
      ],
      "execution_count": 47,
      "outputs": [
        {
          "output_type": "execute_result",
          "data": {
            "text/plain": [
              "133"
            ]
          },
          "metadata": {
            "tags": []
          },
          "execution_count": 47
        }
      ]
    },
    {
      "cell_type": "markdown",
      "metadata": {
        "id": "HtRZfKk1FW4u",
        "colab_type": "text"
      },
      "source": [
        "There are 133 among 10000 testing data are classified into wrong classes. Let's take a look of those wrongly classified images and see if they are reasonable."
      ]
    },
    {
      "cell_type": "code",
      "metadata": {
        "id": "vk1ujgc47hWC",
        "colab_type": "code",
        "outputId": "9fdf0ab8-a5cd-43fe-feb0-fc0f233866e9",
        "colab": {
          "base_uri": "https://localhost:8080/",
          "height": 588
        }
      },
      "source": [
        "plt.figure(figsize=(10,10))\n",
        "for index, (image, w_label,r_label) in enumerate(zip(wrong_x[0:12], wrong_y[0:12],correct_y[0:12])):\n",
        "    plt.subplot(3, 4, index + 1)\n",
        "    plt.imshow(np.reshape(image, (28,28)), cmap='Greys')\n",
        "    plt.title('Actual: %i\\nPredicted: %i' % (r_label,w_label), fontsize = 15)"
      ],
      "execution_count": 48,
      "outputs": [
        {
          "output_type": "display_data",
          "data": {
            "image/png": "[encoded data removed]",
            "text/plain": [
              "<Figure size 720x720 with 12 Axes>"
            ]
          },
          "metadata": {
            "tags": [],
            "needs_background": "light"
          }
        }
      ]
    },
    {
      "cell_type": "code",
      "metadata": {
        "id": "_8AQz8goHigs",
        "colab_type": "code",
        "colab": {}
      },
      "source": [
        ""
      ],
      "execution_count": 0,
      "outputs": []
    },
    {
      "cell_type": "markdown",
      "metadata": {
        "id": "46-ev4-BFnZo",
        "colab_type": "text"
      },
      "source": [
        "# Summary\n",
        "Convolution Neural Network model is a strong model to handle images data. It can read the handwritten digits with a promising 98.7% accuracy, which is higher than Logistic regression and K-nearest neighbour classification from the previous project.\n",
        "\n",
        "CNN requires some time to train the model - 45 mins for 60000 of 28*28 pixel images. However, it takes only a short period to predict new images with a built model - 8s for 10000 images.\n",
        "\n",
        "**Convolution Neural Network vs K-nearest Neighbor**\n",
        "\n",
        "Both models give high accuracy towards reading handwritten digits. However, CNN requires a short period to predict a new image while KNN would take a huge time to do so. It is because in KNN, every new item needs to compare with all existing data in the dataset. It takes significantly longer time especially when the data size is huge."
      ]
    },
    {
      "cell_type": "code",
      "metadata": {
        "id": "LKo8pfd_INmK",
        "colab_type": "code",
        "colab": {}
      },
      "source": [
        ""
      ],
      "execution_count": 0,
      "outputs": []
    }
  ]
}