{
 "cells": [
  {
   "cell_type": "markdown",
   "metadata": {},
   "source": [
    "# World cup 2018 group stages prediction\n",
    "\n",
    "- Author: Tommy Lam\n",
    "\n",
    "- Date: 19 June 2018\n",
    "\n",
    "- Abstract: This model predicts the odds of matches in World Cup 2018 groupstages by using ELO model. The ELO model is developed by using the match data after World Cup 2014. "
   ]
  },
  {
   "cell_type": "markdown",
   "metadata": {},
   "source": [
    "# Packages install"
   ]
  },
  {
   "cell_type": "code",
   "execution_count": 1,
   "metadata": {
    "scrolled": true
   },
   "outputs": [],
   "source": [
    "# install.packages('dplyr')\n",
    "# install.packages('elo')"
   ]
  },
  {
   "cell_type": "markdown",
   "metadata": {},
   "source": [
    "# Import libraries"
   ]
  },
  {
   "cell_type": "code",
   "execution_count": 2,
   "metadata": {},
   "outputs": [
    {
     "name": "stderr",
     "output_type": "stream",
     "text": [
      "\n",
      "Attaching package: ‘dplyr’\n",
      "\n",
      "\n",
      "The following objects are masked from ‘package:stats’:\n",
      "\n",
      "    filter, lag\n",
      "\n",
      "\n",
      "The following objects are masked from ‘package:base’:\n",
      "\n",
      "    intersect, setdiff, setequal, union\n",
      "\n",
      "\n",
      "\n",
      "Attaching package: ‘lubridate’\n",
      "\n",
      "\n",
      "The following object is masked from ‘package:base’:\n",
      "\n",
      "    date\n",
      "\n",
      "\n",
      "\n",
      "Attaching package: ‘MLmetrics’\n",
      "\n",
      "\n",
      "The following object is masked from ‘package:base’:\n",
      "\n",
      "    Recall\n",
      "\n",
      "\n"
     ]
    }
   ],
   "source": [
    "library(readr)\n",
    "library(dplyr)\n",
    "library(elo)\n",
    "library(lubridate)\n",
    "library(MLmetrics)\n",
    "library(reshape2)\n",
    "\n",
    "library(ggplot2)"
   ]
  },
  {
   "cell_type": "markdown",
   "metadata": {},
   "source": [
    "# Read the data\n",
    "The raw dataset includes the match results and odds from betfair of international tournament starting from 2000 to 2018 before the world cup started."
   ]
  },
  {
   "cell_type": "code",
   "execution_count": 3,
   "metadata": {},
   "outputs": [
    {
     "name": "stderr",
     "output_type": "stream",
     "text": [
      "Parsed with column specification:\n",
      "cols(\n",
      "  date = \u001b[34mcol_date(format = \"\")\u001b[39m,\n",
      "  team_1 = \u001b[31mcol_character()\u001b[39m,\n",
      "  team_2 = \u001b[31mcol_character()\u001b[39m,\n",
      "  team_1_goals = \u001b[32mcol_double()\u001b[39m,\n",
      "  team_2_goals = \u001b[32mcol_double()\u001b[39m,\n",
      "  tournament = \u001b[31mcol_character()\u001b[39m,\n",
      "  is_team_1_home = \u001b[33mcol_logical()\u001b[39m,\n",
      "  is_team_2_home = \u001b[33mcol_logical()\u001b[39m,\n",
      "  is_neutral = \u001b[33mcol_logical()\u001b[39m,\n",
      "  team_1_betfair_odds = \u001b[32mcol_double()\u001b[39m,\n",
      "  draw_betfair_odds = \u001b[32mcol_double()\u001b[39m,\n",
      "  team_2_betfair_odds = \u001b[32mcol_double()\u001b[39m\n",
      ")\n",
      "\n"
     ]
    },
    {
     "data": {
      "text/html": [
       "<table>\n",
       "<caption>A tibble: 3 × 12</caption>\n",
       "<thead>\n",
       "\t<tr><th scope=col>date</th><th scope=col>team_1</th><th scope=col>team_2</th><th scope=col>team_1_goals</th><th scope=col>team_2_goals</th><th scope=col>tournament</th><th scope=col>is_team_1_home</th><th scope=col>is_team_2_home</th><th scope=col>is_neutral</th><th scope=col>team_1_betfair_odds</th><th scope=col>draw_betfair_odds</th><th scope=col>team_2_betfair_odds</th></tr>\n",
       "\t<tr><th scope=col>&lt;date&gt;</th><th scope=col>&lt;chr&gt;</th><th scope=col>&lt;chr&gt;</th><th scope=col>&lt;dbl&gt;</th><th scope=col>&lt;dbl&gt;</th><th scope=col>&lt;chr&gt;</th><th scope=col>&lt;lgl&gt;</th><th scope=col>&lt;lgl&gt;</th><th scope=col>&lt;lgl&gt;</th><th scope=col>&lt;dbl&gt;</th><th scope=col>&lt;dbl&gt;</th><th scope=col>&lt;dbl&gt;</th></tr>\n",
       "</thead>\n",
       "<tbody>\n",
       "\t<tr><td>2000-06-10</td><td>Belgium    </td><td>Sweden        </td><td>2</td><td>1</td><td>Euro 2000</td><td> TRUE</td><td>FALSE</td><td>FALSE</td><td>2.72</td><td>2.90</td><td>3.3</td></tr>\n",
       "\t<tr><td>2000-06-11</td><td>France     </td><td>Denmark       </td><td>3</td><td>0</td><td>Euro 2000</td><td>FALSE</td><td>FALSE</td><td> TRUE</td><td>1.68</td><td>3.75</td><td>6.6</td></tr>\n",
       "\t<tr><td>2000-06-11</td><td>Netherlands</td><td>Czech Republic</td><td>1</td><td>0</td><td>Euro 2000</td><td> TRUE</td><td>FALSE</td><td>FALSE</td><td>1.80</td><td>3.45</td><td>5.9</td></tr>\n",
       "</tbody>\n",
       "</table>\n"
      ],
      "text/latex": [
       "A tibble: 3 × 12\n",
       "\\begin{tabular}{llllllllllll}\n",
       " date & team\\_1 & team\\_2 & team\\_1\\_goals & team\\_2\\_goals & tournament & is\\_team\\_1\\_home & is\\_team\\_2\\_home & is\\_neutral & team\\_1\\_betfair\\_odds & draw\\_betfair\\_odds & team\\_2\\_betfair\\_odds\\\\\n",
       " <date> & <chr> & <chr> & <dbl> & <dbl> & <chr> & <lgl> & <lgl> & <lgl> & <dbl> & <dbl> & <dbl>\\\\\n",
       "\\hline\n",
       "\t 2000-06-10 & Belgium     & Sweden         & 2 & 1 & Euro 2000 &  TRUE & FALSE & FALSE & 2.72 & 2.90 & 3.3\\\\\n",
       "\t 2000-06-11 & France      & Denmark        & 3 & 0 & Euro 2000 & FALSE & FALSE &  TRUE & 1.68 & 3.75 & 6.6\\\\\n",
       "\t 2000-06-11 & Netherlands & Czech Republic & 1 & 0 & Euro 2000 &  TRUE & FALSE & FALSE & 1.80 & 3.45 & 5.9\\\\\n",
       "\\end{tabular}\n"
      ],
      "text/markdown": [
       "\n",
       "A tibble: 3 × 12\n",
       "\n",
       "| date &lt;date&gt; | team_1 &lt;chr&gt; | team_2 &lt;chr&gt; | team_1_goals &lt;dbl&gt; | team_2_goals &lt;dbl&gt; | tournament &lt;chr&gt; | is_team_1_home &lt;lgl&gt; | is_team_2_home &lt;lgl&gt; | is_neutral &lt;lgl&gt; | team_1_betfair_odds &lt;dbl&gt; | draw_betfair_odds &lt;dbl&gt; | team_2_betfair_odds &lt;dbl&gt; |\n",
       "|---|---|---|---|---|---|---|---|---|---|---|---|\n",
       "| 2000-06-10 | Belgium     | Sweden         | 2 | 1 | Euro 2000 |  TRUE | FALSE | FALSE | 2.72 | 2.90 | 3.3 |\n",
       "| 2000-06-11 | France      | Denmark        | 3 | 0 | Euro 2000 | FALSE | FALSE |  TRUE | 1.68 | 3.75 | 6.6 |\n",
       "| 2000-06-11 | Netherlands | Czech Republic | 1 | 0 | Euro 2000 |  TRUE | FALSE | FALSE | 1.80 | 3.45 | 5.9 |\n",
       "\n"
      ],
      "text/plain": [
       "  date       team_1      team_2         team_1_goals team_2_goals tournament\n",
       "1 2000-06-10 Belgium     Sweden         2            1            Euro 2000 \n",
       "2 2000-06-11 France      Denmark        3            0            Euro 2000 \n",
       "3 2000-06-11 Netherlands Czech Republic 1            0            Euro 2000 \n",
       "  is_team_1_home is_team_2_home is_neutral team_1_betfair_odds\n",
       "1  TRUE          FALSE          FALSE      2.72               \n",
       "2 FALSE          FALSE           TRUE      1.68               \n",
       "3  TRUE          FALSE          FALSE      1.80               \n",
       "  draw_betfair_odds team_2_betfair_odds\n",
       "1 2.90              3.3                \n",
       "2 3.75              6.6                \n",
       "3 3.45              5.9                "
      ]
     },
     "metadata": {},
     "output_type": "display_data"
    }
   ],
   "source": [
    "# Read in the world cup CSV data\n",
    "setwd(\"~/DS/World Cup ELO Models\")\n",
    "rawdata_t = read_csv(\"wc_datathon_dataset.csv\")\n",
    "head(rawdata_t,3)"
   ]
  },
  {
   "cell_type": "markdown",
   "metadata": {},
   "source": [
    "In this ELO model, match results after World Cup 2014 will be selected. It is believed that the older match results giving less impacts to the current team performance. Also, the team formations and playing styles would be similar within 4 years."
   ]
  },
  {
   "cell_type": "code",
   "execution_count": 4,
   "metadata": {},
   "outputs": [
    {
     "data": {
      "text/html": [
       "<table>\n",
       "<caption>A tibble: 3 × 18</caption>\n",
       "<thead>\n",
       "\t<tr><th scope=col>date</th><th scope=col>team_1</th><th scope=col>team_2</th><th scope=col>team_1_goals</th><th scope=col>team_2_goals</th><th scope=col>tournament</th><th scope=col>is_team_1_home</th><th scope=col>is_team_2_home</th><th scope=col>is_neutral</th><th scope=col>team_1_betfair_odds</th><th scope=col>draw_betfair_odds</th><th scope=col>team_2_betfair_odds</th><th scope=col>home_actual</th><th scope=col>draw_actual</th><th scope=col>away_actual</th><th scope=col>elo_score</th><th scope=col>home</th><th scope=col>neutral</th></tr>\n",
       "\t<tr><th scope=col>&lt;date&gt;</th><th scope=col>&lt;chr&gt;</th><th scope=col>&lt;chr&gt;</th><th scope=col>&lt;dbl&gt;</th><th scope=col>&lt;dbl&gt;</th><th scope=col>&lt;chr&gt;</th><th scope=col>&lt;lgl&gt;</th><th scope=col>&lt;lgl&gt;</th><th scope=col>&lt;lgl&gt;</th><th scope=col>&lt;dbl&gt;</th><th scope=col>&lt;dbl&gt;</th><th scope=col>&lt;dbl&gt;</th><th scope=col>&lt;dbl&gt;</th><th scope=col>&lt;dbl&gt;</th><th scope=col>&lt;dbl&gt;</th><th scope=col>&lt;dbl&gt;</th><th scope=col>&lt;dbl&gt;</th><th scope=col>&lt;dbl&gt;</th></tr>\n",
       "</thead>\n",
       "<tbody>\n",
       "\t<tr><td>2014-07-19</td><td>Botswana    </td><td>Guinea-Bissau</td><td>2</td><td>0</td><td>African Cup of Nations 2015 Qualifiers</td><td>TRUE</td><td>FALSE</td><td>FALSE</td><td>1.88</td><td>3.7</td><td> 4.7</td><td>1</td><td>0</td><td>0</td><td>1</td><td>1</td><td>0</td></tr>\n",
       "\t<tr><td>2014-07-19</td><td>Sierra Leone</td><td>Seychelles   </td><td>2</td><td>0</td><td>African Cup of Nations 2015 Qualifiers</td><td>TRUE</td><td>FALSE</td><td>FALSE</td><td>1.19</td><td>8.4</td><td>18.0</td><td>1</td><td>0</td><td>0</td><td>1</td><td>1</td><td>0</td></tr>\n",
       "\t<tr><td>2014-07-19</td><td>Uganda      </td><td>Mauritania   </td><td>2</td><td>0</td><td>African Cup of Nations 2015 Qualifiers</td><td>TRUE</td><td>FALSE</td><td>FALSE</td><td>1.46</td><td>4.7</td><td> 8.8</td><td>1</td><td>0</td><td>0</td><td>1</td><td>1</td><td>0</td></tr>\n",
       "</tbody>\n",
       "</table>\n"
      ],
      "text/latex": [
       "A tibble: 3 × 18\n",
       "\\begin{tabular}{llllllllllllllllll}\n",
       " date & team\\_1 & team\\_2 & team\\_1\\_goals & team\\_2\\_goals & tournament & is\\_team\\_1\\_home & is\\_team\\_2\\_home & is\\_neutral & team\\_1\\_betfair\\_odds & draw\\_betfair\\_odds & team\\_2\\_betfair\\_odds & home\\_actual & draw\\_actual & away\\_actual & elo\\_score & home & neutral\\\\\n",
       " <date> & <chr> & <chr> & <dbl> & <dbl> & <chr> & <lgl> & <lgl> & <lgl> & <dbl> & <dbl> & <dbl> & <dbl> & <dbl> & <dbl> & <dbl> & <dbl> & <dbl>\\\\\n",
       "\\hline\n",
       "\t 2014-07-19 & Botswana     & Guinea-Bissau & 2 & 0 & African Cup of Nations 2015 Qualifiers & TRUE & FALSE & FALSE & 1.88 & 3.7 &  4.7 & 1 & 0 & 0 & 1 & 1 & 0\\\\\n",
       "\t 2014-07-19 & Sierra Leone & Seychelles    & 2 & 0 & African Cup of Nations 2015 Qualifiers & TRUE & FALSE & FALSE & 1.19 & 8.4 & 18.0 & 1 & 0 & 0 & 1 & 1 & 0\\\\\n",
       "\t 2014-07-19 & Uganda       & Mauritania    & 2 & 0 & African Cup of Nations 2015 Qualifiers & TRUE & FALSE & FALSE & 1.46 & 4.7 &  8.8 & 1 & 0 & 0 & 1 & 1 & 0\\\\\n",
       "\\end{tabular}\n"
      ],
      "text/markdown": [
       "\n",
       "A tibble: 3 × 18\n",
       "\n",
       "| date &lt;date&gt; | team_1 &lt;chr&gt; | team_2 &lt;chr&gt; | team_1_goals &lt;dbl&gt; | team_2_goals &lt;dbl&gt; | tournament &lt;chr&gt; | is_team_1_home &lt;lgl&gt; | is_team_2_home &lt;lgl&gt; | is_neutral &lt;lgl&gt; | team_1_betfair_odds &lt;dbl&gt; | draw_betfair_odds &lt;dbl&gt; | team_2_betfair_odds &lt;dbl&gt; | home_actual &lt;dbl&gt; | draw_actual &lt;dbl&gt; | away_actual &lt;dbl&gt; | elo_score &lt;dbl&gt; | home &lt;dbl&gt; | neutral &lt;dbl&gt; |\n",
       "|---|---|---|---|---|---|---|---|---|---|---|---|---|---|---|---|---|---|\n",
       "| 2014-07-19 | Botswana     | Guinea-Bissau | 2 | 0 | African Cup of Nations 2015 Qualifiers | TRUE | FALSE | FALSE | 1.88 | 3.7 |  4.7 | 1 | 0 | 0 | 1 | 1 | 0 |\n",
       "| 2014-07-19 | Sierra Leone | Seychelles    | 2 | 0 | African Cup of Nations 2015 Qualifiers | TRUE | FALSE | FALSE | 1.19 | 8.4 | 18.0 | 1 | 0 | 0 | 1 | 1 | 0 |\n",
       "| 2014-07-19 | Uganda       | Mauritania    | 2 | 0 | African Cup of Nations 2015 Qualifiers | TRUE | FALSE | FALSE | 1.46 | 4.7 |  8.8 | 1 | 0 | 0 | 1 | 1 | 0 |\n",
       "\n"
      ],
      "text/plain": [
       "  date       team_1       team_2        team_1_goals team_2_goals\n",
       "1 2014-07-19 Botswana     Guinea-Bissau 2            0           \n",
       "2 2014-07-19 Sierra Leone Seychelles    2            0           \n",
       "3 2014-07-19 Uganda       Mauritania    2            0           \n",
       "  tournament                             is_team_1_home is_team_2_home\n",
       "1 African Cup of Nations 2015 Qualifiers TRUE           FALSE         \n",
       "2 African Cup of Nations 2015 Qualifiers TRUE           FALSE         \n",
       "3 African Cup of Nations 2015 Qualifiers TRUE           FALSE         \n",
       "  is_neutral team_1_betfair_odds draw_betfair_odds team_2_betfair_odds\n",
       "1 FALSE      1.88                3.7                4.7               \n",
       "2 FALSE      1.19                8.4               18.0               \n",
       "3 FALSE      1.46                4.7                8.8               \n",
       "  home_actual draw_actual away_actual elo_score home neutral\n",
       "1 1           0           0           1         1    0      \n",
       "2 1           0           0           1         1    0      \n",
       "3 1           0           0           1         1    0      "
      ]
     },
     "metadata": {},
     "output_type": "display_data"
    }
   ],
   "source": [
    "#### Filter data from World Cup 2014 and reformat some columns for further analysis\n",
    "#select training data to use: AFTER WC2014\n",
    "training_t = rawdata_t %>%\n",
    "  filter(\n",
    "    # Match should occur after 2014 world cup\n",
    "    date > rawdata_t %>% filter(tournament == \"World Cup 2014\") %>% pull(date) %>% max()\n",
    "    # # Match should occur before 2014 world cup starts\n",
    "    # date < rawdata %>% filter(tournament == \"World Cup 2014\") %>% pull(date) %>% min()\n",
    "  ) %>% mutate(\n",
    "            home_actual = ifelse(team_1_goals > team_2_goals, 1, 0),\n",
    "            draw_actual = ifelse(team_1_goals == team_2_goals, 1, 0),\n",
    "            away_actual = ifelse(team_2_goals > team_1_goals, 1, 0),\n",
    "            elo_score = ifelse(team_1_goals > team_2_goals, 1, ifelse(team_1_goals == team_2_goals, 0.5, 0)),\n",
    "            home = ifelse(is_team_1_home,1,0),\n",
    "            neutral = ifelse(is_neutral,1,0)\n",
    "       )\n",
    "head(training_t,3)"
   ]
  },
  {
   "cell_type": "markdown",
   "metadata": {},
   "source": [
    "## Investigation of Home advantage\n",
    "The following is an investigation on the win rate due to home or neutral venue. "
   ]
  },
  {
   "cell_type": "code",
   "execution_count": 5,
   "metadata": {
    "scrolled": false
   },
   "outputs": [
    {
     "data": {
      "text/html": [
       "<table>\n",
       "<caption>A data.frame: 9 × 3</caption>\n",
       "<thead>\n",
       "\t<tr><th scope=col>type</th><th scope=col>variable</th><th scope=col>value</th></tr>\n",
       "\t<tr><th scope=col>&lt;fct&gt;</th><th scope=col>&lt;fct&gt;</th><th scope=col>&lt;dbl&gt;</th></tr>\n",
       "</thead>\n",
       "<tbody>\n",
       "\t<tr><td>home_actual</td><td>All    </td><td>0.48</td></tr>\n",
       "\t<tr><td>draw_actual</td><td>All    </td><td>0.24</td></tr>\n",
       "\t<tr><td>away_actual</td><td>All    </td><td>0.28</td></tr>\n",
       "\t<tr><td>home_actual</td><td>Home   </td><td>0.50</td></tr>\n",
       "\t<tr><td>draw_actual</td><td>Home   </td><td>0.23</td></tr>\n",
       "\t<tr><td>away_actual</td><td>Home   </td><td>0.27</td></tr>\n",
       "\t<tr><td>home_actual</td><td>Neutral</td><td>0.41</td></tr>\n",
       "\t<tr><td>draw_actual</td><td>Neutral</td><td>0.25</td></tr>\n",
       "\t<tr><td>away_actual</td><td>Neutral</td><td>0.34</td></tr>\n",
       "</tbody>\n",
       "</table>\n"
      ],
      "text/latex": [
       "A data.frame: 9 × 3\n",
       "\\begin{tabular}{lll}\n",
       " type & variable & value\\\\\n",
       " <fct> & <fct> & <dbl>\\\\\n",
       "\\hline\n",
       "\t home\\_actual & All     & 0.48\\\\\n",
       "\t draw\\_actual & All     & 0.24\\\\\n",
       "\t away\\_actual & All     & 0.28\\\\\n",
       "\t home\\_actual & Home    & 0.50\\\\\n",
       "\t draw\\_actual & Home    & 0.23\\\\\n",
       "\t away\\_actual & Home    & 0.27\\\\\n",
       "\t home\\_actual & Neutral & 0.41\\\\\n",
       "\t draw\\_actual & Neutral & 0.25\\\\\n",
       "\t away\\_actual & Neutral & 0.34\\\\\n",
       "\\end{tabular}\n"
      ],
      "text/markdown": [
       "\n",
       "A data.frame: 9 × 3\n",
       "\n",
       "| type &lt;fct&gt; | variable &lt;fct&gt; | value &lt;dbl&gt; |\n",
       "|---|---|---|\n",
       "| home_actual | All     | 0.48 |\n",
       "| draw_actual | All     | 0.24 |\n",
       "| away_actual | All     | 0.28 |\n",
       "| home_actual | Home    | 0.50 |\n",
       "| draw_actual | Home    | 0.23 |\n",
       "| away_actual | Home    | 0.27 |\n",
       "| home_actual | Neutral | 0.41 |\n",
       "| draw_actual | Neutral | 0.25 |\n",
       "| away_actual | Neutral | 0.34 |\n",
       "\n"
      ],
      "text/plain": [
       "  type        variable value\n",
       "1 home_actual All      0.48 \n",
       "2 draw_actual All      0.24 \n",
       "3 away_actual All      0.28 \n",
       "4 home_actual Home     0.50 \n",
       "5 draw_actual Home     0.23 \n",
       "6 away_actual Home     0.27 \n",
       "7 home_actual Neutral  0.41 \n",
       "8 draw_actual Neutral  0.25 \n",
       "9 away_actual Neutral  0.34 "
      ]
     },
     "metadata": {},
     "output_type": "display_data"
    }
   ],
   "source": [
    "####effect on home/away/neutral\n",
    "# print('All data:')\n",
    "all = round(colMeans(training_t[,13:18]),2)\n",
    "\n",
    "# print('Home game')\n",
    "home = round(colMeans(training_t[,13:18] %>% \n",
    "           filter(\n",
    "             home == 1\n",
    "           )),2)\n",
    "\n",
    "# print('Neutral game')\n",
    "neutral = round(colMeans(training_t[,13:18] %>% \n",
    "           filter(\n",
    "             neutral == 1\n",
    "           )),2)\n",
    "\n",
    "home_adv = data.frame('All' = all,\n",
    "           'Home' = home,\n",
    "          'Neutral' = neutral\n",
    "          )\n",
    "home_adv = (home_adv[1:3,])\n",
    "\n",
    "home_adv <- cbind(type = rownames(home_adv), home_adv)\n",
    "rownames(home_adv) <- 1:nrow(home_adv)\n",
    "\n",
    "home_adv = as.data.frame(home_adv)\n",
    "home_adv = melt(home_adv[,c('type','All','Home','Neutral')],id.vars = 1)\n",
    "home_adv"
   ]
  },
  {
   "cell_type": "code",
   "execution_count": null,
   "metadata": {},
   "outputs": [],
   "source": []
  },
  {
   "cell_type": "code",
   "execution_count": 6,
   "metadata": {
    "scrolled": false
   },
   "outputs": [
    {
     "data": {
      "image/png": "[encoded data removed]",
      "text/plain": [
       "plot without title"
      ]
     },
     "metadata": {
      "image/png": {
       "height": 420,
       "width": 420
      },
      "text/plain": {
       "height": 420,
       "width": 420
      }
     },
     "output_type": "display_data"
    }
   ],
   "source": [
    "home_adv$type = factor(home_adv$type,levels = c(\"home_actual\", \"draw_actual\", \"away_actual\"))\n",
    "ggplot(data = home_adv[4:9,], aes(x = type , y= value , fill = variable))+\n",
    "geom_bar(aes(group = (variable)), position = \"dodge\", stat = 'identity') +\n",
    "labs(x='Away/Draw/Win',y='Win rate',title = 'Win rate in home or neutral game') +\n",
    "theme(text = element_text(size=20))"
   ]
  },
  {
   "cell_type": "markdown",
   "metadata": {},
   "source": [
    "### Correlation matrix :"
   ]
  },
  {
   "cell_type": "code",
   "execution_count": 7,
   "metadata": {},
   "outputs": [
    {
     "data": {
      "text/html": [
       "<table>\n",
       "<caption>A matrix: 6 × 6 of type dbl</caption>\n",
       "<thead>\n",
       "\t<tr><th></th><th scope=col>home_actual</th><th scope=col>draw_actual</th><th scope=col>away_actual</th><th scope=col>elo_score</th><th scope=col>home</th><th scope=col>neutral</th></tr>\n",
       "</thead>\n",
       "<tbody>\n",
       "\t<tr><th scope=row>home_actual</th><td> 1.00</td><td>-0.54</td><td>-0.60</td><td> 0.91</td><td> 0.07</td><td>-0.07</td></tr>\n",
       "\t<tr><th scope=row>draw_actual</th><td>-0.54</td><td> 1.00</td><td>-0.35</td><td>-0.13</td><td>-0.02</td><td> 0.02</td></tr>\n",
       "\t<tr><th scope=row>away_actual</th><td>-0.60</td><td>-0.35</td><td> 1.00</td><td>-0.88</td><td>-0.06</td><td> 0.06</td></tr>\n",
       "\t<tr><th scope=row>elo_score</th><td> 0.91</td><td>-0.13</td><td>-0.88</td><td> 1.00</td><td> 0.08</td><td>-0.08</td></tr>\n",
       "\t<tr><th scope=row>home</th><td> 0.07</td><td>-0.02</td><td>-0.06</td><td> 0.08</td><td> 1.00</td><td>-1.00</td></tr>\n",
       "\t<tr><th scope=row>neutral</th><td>-0.07</td><td> 0.02</td><td> 0.06</td><td>-0.08</td><td>-1.00</td><td> 1.00</td></tr>\n",
       "</tbody>\n",
       "</table>\n"
      ],
      "text/latex": [
       "A matrix: 6 × 6 of type dbl\n",
       "\\begin{tabular}{r|llllll}\n",
       "  & home\\_actual & draw\\_actual & away\\_actual & elo\\_score & home & neutral\\\\\n",
       "\\hline\n",
       "\thome\\_actual &  1.00 & -0.54 & -0.60 &  0.91 &  0.07 & -0.07\\\\\n",
       "\tdraw\\_actual & -0.54 &  1.00 & -0.35 & -0.13 & -0.02 &  0.02\\\\\n",
       "\taway\\_actual & -0.60 & -0.35 &  1.00 & -0.88 & -0.06 &  0.06\\\\\n",
       "\telo\\_score &  0.91 & -0.13 & -0.88 &  1.00 &  0.08 & -0.08\\\\\n",
       "\thome &  0.07 & -0.02 & -0.06 &  0.08 &  1.00 & -1.00\\\\\n",
       "\tneutral & -0.07 &  0.02 &  0.06 & -0.08 & -1.00 &  1.00\\\\\n",
       "\\end{tabular}\n"
      ],
      "text/markdown": [
       "\n",
       "A matrix: 6 × 6 of type dbl\n",
       "\n",
       "| <!--/--> | home_actual | draw_actual | away_actual | elo_score | home | neutral |\n",
       "|---|---|---|---|---|---|---|\n",
       "| home_actual |  1.00 | -0.54 | -0.60 |  0.91 |  0.07 | -0.07 |\n",
       "| draw_actual | -0.54 |  1.00 | -0.35 | -0.13 | -0.02 |  0.02 |\n",
       "| away_actual | -0.60 | -0.35 |  1.00 | -0.88 | -0.06 |  0.06 |\n",
       "| elo_score |  0.91 | -0.13 | -0.88 |  1.00 |  0.08 | -0.08 |\n",
       "| home |  0.07 | -0.02 | -0.06 |  0.08 |  1.00 | -1.00 |\n",
       "| neutral | -0.07 |  0.02 |  0.06 | -0.08 | -1.00 |  1.00 |\n",
       "\n"
      ],
      "text/plain": [
       "            home_actual draw_actual away_actual elo_score home  neutral\n",
       "home_actual  1.00       -0.54       -0.60        0.91      0.07 -0.07  \n",
       "draw_actual -0.54        1.00       -0.35       -0.13     -0.02  0.02  \n",
       "away_actual -0.60       -0.35        1.00       -0.88     -0.06  0.06  \n",
       "elo_score    0.91       -0.13       -0.88        1.00      0.08 -0.08  \n",
       "home         0.07       -0.02       -0.06        0.08      1.00 -1.00  \n",
       "neutral     -0.07        0.02        0.06       -0.08     -1.00  1.00  "
      ]
     },
     "metadata": {},
     "output_type": "display_data"
    }
   ],
   "source": [
    "####correlation\n",
    "res <- cor(training_t[,13:18])\n",
    "round(res, 2)"
   ]
  },
  {
   "cell_type": "markdown",
   "metadata": {},
   "source": [
    "## ELO score calculation"
   ]
  },
  {
   "cell_type": "markdown",
   "metadata": {},
   "source": [
    "Define the function to calculate the winning probaility based on ELO score."
   ]
  },
  {
   "cell_type": "code",
   "execution_count": 8,
   "metadata": {},
   "outputs": [],
   "source": [
    "##probability function\n",
    "win_prob = function(team1,team2) {\n",
    "  prob = 1/(1+10^((team2-team1)/400))\n",
    "  return(prob)\n",
    "}"
   ]
  },
  {
   "cell_type": "markdown",
   "metadata": {},
   "source": [
    "Initialise the scores as 1500:"
   ]
  },
  {
   "cell_type": "code",
   "execution_count": 9,
   "metadata": {},
   "outputs": [],
   "source": [
    "##score for teams\n",
    "score = data.frame(\n",
    "  team = unique(c(training_t$team_1,training_t$team_2)),\n",
    "  score = 1500\n",
    ")\n"
   ]
  },
  {
   "cell_type": "markdown",
   "metadata": {},
   "source": [
    "Main calculation:"
   ]
  },
  {
   "cell_type": "code",
   "execution_count": 10,
   "metadata": {},
   "outputs": [
    {
     "name": "stderr",
     "output_type": "stream",
     "text": [
      "Parsed with column specification:\n",
      "cols(\n",
      "  date = \u001b[31mcol_character()\u001b[39m,\n",
      "  match_id = \u001b[31mcol_character()\u001b[39m,\n",
      "  team_1 = \u001b[31mcol_character()\u001b[39m,\n",
      "  team_2 = \u001b[31mcol_character()\u001b[39m,\n",
      "  prob_team_1_win = \u001b[32mcol_double()\u001b[39m,\n",
      "  prob_team_1_draw = \u001b[32mcol_double()\u001b[39m,\n",
      "  prob_team_1_lose = \u001b[32mcol_double()\u001b[39m\n",
      ")\n",
      "\n"
     ]
    }
   ],
   "source": [
    "## calculation\n",
    "elo_t =  training_t %>% select(team_1, team_2, tournament, elo_score, home, neutral) %>%\n",
    "  mutate(team_1_score=1500, team_2_score=1500,\n",
    "         team_1_prob = 0, team_1_update = 0)\n",
    "\n",
    "## Main loop\n",
    "for (i in 1:nrow(elo_t)) {\n",
    "  team1 = as.character(elo_t[i,'team_1'])\n",
    "  team2 = as.character(elo_t[i,'team_2'])\n",
    "  #obtain team score\n",
    "  elo_t[i,'team_1_score'] = score[which(score$team == team1),2]\n",
    "  elo_t[i,'team_2_score'] = score[which(score$team == team2),2]\n",
    "  #define k\n",
    "  k=30\n",
    "  if (elo_t[i,'tournament'] == 'Friendly') { k = k*0.7 }\n",
    "  if (elo_t[i,'home']==1 & elo_t[i,'elo_score']==1) {k=k*0.8}\n",
    "  if (elo_t[i,'home']==1 & elo_t[i,'elo_score']==0) {k=k*1.2}\n",
    "  \n",
    "  #cal. score\n",
    "  elo_t[i,'team_1_prob'] = win_prob(score[which(score$team == team1),2],score[which(score$team==team2),2])\n",
    "  elo_t[i,'team_1_update'] = k*(elo_t[i,'elo_score']-elo_t[i,'team_1_prob'])\n",
    "  #update score\n",
    "  # score[which(score$team == team1),2] = score[which(score$team == team1),2] + elo_t[i,'team_1_update']\n",
    "  # score[which(score$team == team2),2] = score[which(score$team == team2),2] - elo_t[i,'team_1_update']\n",
    "  score[which(score$team == team1),2] = score[which(score$team == team1),2] + elo_t[i,'team_1_update']\n",
    "  score[which(score$team == team2),2] = score[which(score$team == team2),2] - elo_t[i,'team_1_update']\n",
    "}\n",
    "\n",
    "##convert to lower case\n",
    "score[,1] = tolower(score[,1])\n",
    "\n",
    "\n",
    "\n",
    "wc_2018 = read_csv(\"john_smith_numbersman1-1.csv\") \n",
    "wc_2018[,5:7] = 0\n",
    "\n",
    "\n",
    "draw_rates_t = \n",
    "  # Create the draw DF from the elo object\n",
    "  data.frame(\n",
    "    home_win_prob = elo_t$team_1_prob,\n",
    "    win_loss_draw = elo_t$elo_score\n",
    "  ) %>%\n",
    "  # Round the predicted win probabilities to the nearest 0.05\n",
    "  mutate(\n",
    "    prob_bucket = \n",
    "      abs(\n",
    "        round(\n",
    "          (home_win_prob-(1-home_win_prob))*20\n",
    "        )\n",
    "      ) / 20\n",
    "  ) %>%\n",
    "  group_by(prob_bucket) %>%\n",
    "  # Calculate the rate their was a draw for this win prob - elo package codes a draw as a 0.5\n",
    "  summarise(\n",
    "    draw_prob = sum(ifelse(win_loss_draw==0.5, 1, 0)) / n()\n",
    "  )\n"
   ]
  },
  {
   "cell_type": "markdown",
   "metadata": {},
   "source": [
    "## Fine tuning\n",
    "Most of the international matches are within continent, where some countries in (e.g. Asia, Africa) could be strong within their continents but they might not be as strong as those in other continent (e.g. Europe, South America).\n",
    "\n",
    "Therefore, there are some fine tunes for those countries.\n",
    "\n",
    "- Asia team: ELO * 0.95\n",
    "- Africa team: ELO * 0.98\n",
    "\n",
    "Also, it is believed that there is home advantage for Russia team:\n",
    "- Russia: ELO * 1.05"
   ]
  },
  {
   "cell_type": "code",
   "execution_count": 11,
   "metadata": {},
   "outputs": [],
   "source": [
    "\n",
    "#fine tune\n",
    "##asia team *0.95\n",
    "score[which(score$team == 'japan'),2] = score[which(score$team == 'japan'),2] * 0.95\n",
    "score[which(score$team == 'saudi arabia'),2] = score[which(score$team == 'saudi arabia'),2] *0.95\n",
    "score[which(score$team == 'iran'),2] = score[which(score$team == 'iran'),2] *0.95\n",
    "score[which(score$team == 'korea republic'),2] = score[which(score$team == 'korea republic'),2] *0.95\n",
    "\n",
    "#africa team *0.98: nigeria, morocco, senegal, tunisia, egypt\n",
    "score[which(score$team == 'nigeria'),2] = score[which(score$team == 'nigeria'),2] *0.98\n",
    "score[which(score$team == 'morocco'),2] = score[which(score$team == 'morocco'),2] *0.98\n",
    "score[which(score$team == 'senegal'),2] = score[which(score$team == 'senegal'),2] *0.98\n",
    "score[which(score$team == 'tunisia'),2] = score[which(score$team == 'tunisia'),2] *0.98\n",
    "score[which(score$team == 'egypt'),2] = score[which(score$team == 'egypt'),2] *0.98\n",
    "\n",
    "\n",
    "#home boost for russia by 1.05\n",
    "score[which(score$team == 'russia'),2] = score[which(score$team == 'russia'),2]*1.05\n",
    "\n"
   ]
  },
  {
   "cell_type": "markdown",
   "metadata": {},
   "source": [
    "## ELO Score"
   ]
  },
  {
   "cell_type": "code",
   "execution_count": 12,
   "metadata": {},
   "outputs": [
    {
     "data": {
      "text/html": [
       "<table>\n",
       "<caption>A data.frame: 6 × 2</caption>\n",
       "<thead>\n",
       "\t<tr><th></th><th scope=col>team</th><th scope=col>score</th></tr>\n",
       "\t<tr><th></th><th scope=col>&lt;chr&gt;</th><th scope=col>&lt;dbl&gt;</th></tr>\n",
       "</thead>\n",
       "<tbody>\n",
       "\t<tr><th scope=row>1</th><td>botswana    </td><td>1442.129</td></tr>\n",
       "\t<tr><th scope=row>2</th><td>sierra leone</td><td>1484.957</td></tr>\n",
       "\t<tr><th scope=row>3</th><td>uganda      </td><td>1516.950</td></tr>\n",
       "\t<tr><th scope=row>4</th><td>benin       </td><td>1533.109</td></tr>\n",
       "\t<tr><th scope=row>5</th><td>congo       </td><td>1465.083</td></tr>\n",
       "\t<tr><th scope=row>6</th><td>lesotho     </td><td>1413.863</td></tr>\n",
       "</tbody>\n",
       "</table>\n"
      ],
      "text/latex": [
       "A data.frame: 6 × 2\n",
       "\\begin{tabular}{r|ll}\n",
       "  & team & score\\\\\n",
       "  & <chr> & <dbl>\\\\\n",
       "\\hline\n",
       "\t1 & botswana     & 1442.129\\\\\n",
       "\t2 & sierra leone & 1484.957\\\\\n",
       "\t3 & uganda       & 1516.950\\\\\n",
       "\t4 & benin        & 1533.109\\\\\n",
       "\t5 & congo        & 1465.083\\\\\n",
       "\t6 & lesotho      & 1413.863\\\\\n",
       "\\end{tabular}\n"
      ],
      "text/markdown": [
       "\n",
       "A data.frame: 6 × 2\n",
       "\n",
       "| <!--/--> | team &lt;chr&gt; | score &lt;dbl&gt; |\n",
       "|---|---|---|\n",
       "| 1 | botswana     | 1442.129 |\n",
       "| 2 | sierra leone | 1484.957 |\n",
       "| 3 | uganda       | 1516.950 |\n",
       "| 4 | benin        | 1533.109 |\n",
       "| 5 | congo        | 1465.083 |\n",
       "| 6 | lesotho      | 1413.863 |\n",
       "\n"
      ],
      "text/plain": [
       "  team         score   \n",
       "1 botswana     1442.129\n",
       "2 sierra leone 1484.957\n",
       "3 uganda       1516.950\n",
       "4 benin        1533.109\n",
       "5 congo        1465.083\n",
       "6 lesotho      1413.863"
      ]
     },
     "metadata": {},
     "output_type": "display_data"
    }
   ],
   "source": [
    "head(score)"
   ]
  },
  {
   "cell_type": "code",
   "execution_count": 13,
   "metadata": {},
   "outputs": [],
   "source": [
    "df_plot = score[order(score$score,decreasing = T),]\n",
    "rownames(df_plot) <- NULL\n",
    "df_plot = df_plot[1:10,]"
   ]
  },
  {
   "cell_type": "code",
   "execution_count": 14,
   "metadata": {},
   "outputs": [
    {
     "data": {
      "text/html": [
       "<table>\n",
       "<caption>A data.frame: 10 × 2</caption>\n",
       "<thead>\n",
       "\t<tr><th></th><th scope=col>team</th><th scope=col>score</th></tr>\n",
       "\t<tr><th></th><th scope=col>&lt;chr&gt;</th><th scope=col>&lt;dbl&gt;</th></tr>\n",
       "</thead>\n",
       "<tbody>\n",
       "\t<tr><th scope=row>1</th><td>germany    </td><td>1720.456</td></tr>\n",
       "\t<tr><th scope=row>2</th><td>spain      </td><td>1686.986</td></tr>\n",
       "\t<tr><th scope=row>3</th><td>portugal   </td><td>1683.373</td></tr>\n",
       "\t<tr><th scope=row>4</th><td>brazil     </td><td>1680.115</td></tr>\n",
       "\t<tr><th scope=row>5</th><td>belgium    </td><td>1672.949</td></tr>\n",
       "\t<tr><th scope=row>6</th><td>england    </td><td>1664.974</td></tr>\n",
       "\t<tr><th scope=row>7</th><td>france     </td><td>1664.425</td></tr>\n",
       "\t<tr><th scope=row>8</th><td>senegal    </td><td>1649.722</td></tr>\n",
       "\t<tr><th scope=row>9</th><td>mexico     </td><td>1641.315</td></tr>\n",
       "\t<tr><th scope=row>10</th><td>switzerland</td><td>1640.376</td></tr>\n",
       "</tbody>\n",
       "</table>\n"
      ],
      "text/latex": [
       "A data.frame: 10 × 2\n",
       "\\begin{tabular}{r|ll}\n",
       "  & team & score\\\\\n",
       "  & <chr> & <dbl>\\\\\n",
       "\\hline\n",
       "\t1 & germany     & 1720.456\\\\\n",
       "\t2 & spain       & 1686.986\\\\\n",
       "\t3 & portugal    & 1683.373\\\\\n",
       "\t4 & brazil      & 1680.115\\\\\n",
       "\t5 & belgium     & 1672.949\\\\\n",
       "\t6 & england     & 1664.974\\\\\n",
       "\t7 & france      & 1664.425\\\\\n",
       "\t8 & senegal     & 1649.722\\\\\n",
       "\t9 & mexico      & 1641.315\\\\\n",
       "\t10 & switzerland & 1640.376\\\\\n",
       "\\end{tabular}\n"
      ],
      "text/markdown": [
       "\n",
       "A data.frame: 10 × 2\n",
       "\n",
       "| <!--/--> | team &lt;chr&gt; | score &lt;dbl&gt; |\n",
       "|---|---|---|\n",
       "| 1 | germany     | 1720.456 |\n",
       "| 2 | spain       | 1686.986 |\n",
       "| 3 | portugal    | 1683.373 |\n",
       "| 4 | brazil      | 1680.115 |\n",
       "| 5 | belgium     | 1672.949 |\n",
       "| 6 | england     | 1664.974 |\n",
       "| 7 | france      | 1664.425 |\n",
       "| 8 | senegal     | 1649.722 |\n",
       "| 9 | mexico      | 1641.315 |\n",
       "| 10 | switzerland | 1640.376 |\n",
       "\n"
      ],
      "text/plain": [
       "   team        score   \n",
       "1  germany     1720.456\n",
       "2  spain       1686.986\n",
       "3  portugal    1683.373\n",
       "4  brazil      1680.115\n",
       "5  belgium     1672.949\n",
       "6  england     1664.974\n",
       "7  france      1664.425\n",
       "8  senegal     1649.722\n",
       "9  mexico      1641.315\n",
       "10 switzerland 1640.376"
      ]
     },
     "metadata": {},
     "output_type": "display_data"
    }
   ],
   "source": [
    "df_plot"
   ]
  },
  {
   "cell_type": "code",
   "execution_count": 15,
   "metadata": {},
   "outputs": [
    {
     "data": {
      "image/png": "[encoded data removed]",
      "text/plain": [
       "plot without title"
      ]
     },
     "metadata": {
      "image/png": {
       "height": 420,
       "width": 420
      },
      "text/plain": {
       "height": 420,
       "width": 420
      }
     },
     "output_type": "display_data"
    }
   ],
   "source": [
    "g = ggplot( data = df_plot,aes(x = reorder(team, score), y = score)) + \n",
    "  geom_col(fill = 'darkblue') +\n",
    "  # theme(axis.text.x = element_text(angle = 45)) +\n",
    "  coord_flip() +\n",
    "  ylim(0, 2500) +\n",
    "  geom_text(label = round(df_plot$score),hjust = 0, nudge_y = 0.5, size = 8)+\n",
    "  labs(x='Team',y='ELO',title = 'ELO score') +\n",
    "  theme(text = element_text(size=20))\n",
    "\n",
    "g  "
   ]
  },
  {
   "cell_type": "markdown",
   "metadata": {},
   "source": [
    "## Final probability calculation\n",
    "Base on the ELO score above, we can easily predict the odds of the coming fixture in World Cup 2018."
   ]
  },
  {
   "cell_type": "code",
   "execution_count": 16,
   "metadata": {},
   "outputs": [
    {
     "name": "stderr",
     "output_type": "stream",
     "text": [
      "Joining, by = \"prob_bucket\"\n",
      "\n"
     ]
    }
   ],
   "source": [
    "##add win probability\n",
    "wc_2018 = wc_2018 %>% mutate(\n",
    "  home_win_prob = 0\n",
    ")\n",
    "for (i in 1:nrow(wc_2018)) {\n",
    "  team1 = as.character(wc_2018[i,'team_1'])\n",
    "  team2 = as.character(wc_2018[i,'team_2'])\n",
    "  wc_2018[i,'home_win_prob'] = win_prob(score[which(score$team == team1),2],score[which(score$team==team2),2])\n",
    "}\n",
    "\n",
    "wc_2018 = wc_2018 %>%\n",
    "  # Add in probabilities\n",
    "  mutate(\n",
    "    prob_team_1_win = home_win_prob,\n",
    "    prob_team_1_lose = 1 - prob_team_1_win,\n",
    "    # Probability bucket for the draw expectation\n",
    "    prob_bucket = round(20 * abs((prob_team_1_win - prob_team_1_lose))) / 20\n",
    "  ) %>%\n",
    "  # Join in draws\n",
    "  left_join(draw_rates_t) %>%\n",
    "  # Evenly subtract the draw probability from the home and away probality\n",
    "  mutate(\n",
    "    prob_team_1_win = prob_team_1_win - 0.5 * draw_prob,\n",
    "    prob_team_1_lose = prob_team_1_lose - 0.5 * draw_prob,\n",
    "    prob_team_1_draw = draw_prob\n",
    "  )\n",
    "\n",
    "wc_2018 = wc_2018[,1:7]\n",
    "\n",
    "wc_2018[,5:7] = round(wc_2018[,5:7],2)\n",
    "\n",
    "wc_2018_odd = wc_2018 %>%mutate(\n",
    "  win = round(1/prob_team_1_win,2),\n",
    "  draw = round(1/prob_team_1_draw,2),\n",
    "  lose = round(1/prob_team_1_lose,2)\n",
    ") %>% select(date,match_id,team_1,team_2,win,draw,lose)\n",
    "\n",
    "score_wc = score %>% filter (team %in% wc_2018$team_1)\n",
    "score_wc = score_wc[,1:2]\n",
    "\n",
    "\n"
   ]
  },
  {
   "cell_type": "markdown",
   "metadata": {},
   "source": [
    "# Result\n",
    "The following is the odds prediction of World Cup 2018 group stages fixture."
   ]
  },
  {
   "cell_type": "code",
   "execution_count": 17,
   "metadata": {},
   "outputs": [
    {
     "data": {
      "text/html": [
       "<table>\n",
       "<caption>A tibble: 48 × 7</caption>\n",
       "<thead>\n",
       "\t<tr><th scope=col>date</th><th scope=col>match_id</th><th scope=col>team_1</th><th scope=col>team_2</th><th scope=col>prob_team_1_win</th><th scope=col>prob_team_1_draw</th><th scope=col>prob_team_1_lose</th></tr>\n",
       "\t<tr><th scope=col>&lt;chr&gt;</th><th scope=col>&lt;chr&gt;</th><th scope=col>&lt;chr&gt;</th><th scope=col>&lt;chr&gt;</th><th scope=col>&lt;dbl&gt;</th><th scope=col>&lt;dbl&gt;</th><th scope=col>&lt;dbl&gt;</th></tr>\n",
       "</thead>\n",
       "<tbody>\n",
       "\t<tr><td>14/06/2018</td><td>a_1</td><td>russia        </td><td>saudi arabia  </td><td>0.57</td><td>0.20</td><td>0.23</td></tr>\n",
       "\t<tr><td>15/06/2018</td><td>a_2</td><td>egypt         </td><td>uruguay       </td><td>0.46</td><td>0.25</td><td>0.29</td></tr>\n",
       "\t<tr><td>15/06/2018</td><td>b_1</td><td>morocco       </td><td>iran          </td><td>0.33</td><td>0.27</td><td>0.40</td></tr>\n",
       "\t<tr><td>15/06/2018</td><td>b_2</td><td>portugal      </td><td>spain         </td><td>0.38</td><td>0.24</td><td>0.39</td></tr>\n",
       "\t<tr><td>16/06/2018</td><td>c_1</td><td>france        </td><td>australia     </td><td>0.47</td><td>0.25</td><td>0.28</td></tr>\n",
       "\t<tr><td>16/06/2018</td><td>d_1</td><td>argentina     </td><td>iceland       </td><td>0.41</td><td>0.24</td><td>0.35</td></tr>\n",
       "\t<tr><td>16/06/2018</td><td>c_2</td><td>peru          </td><td>denmark       </td><td>0.41</td><td>0.27</td><td>0.32</td></tr>\n",
       "\t<tr><td>16/06/2018</td><td>d_2</td><td>croatia       </td><td>nigeria       </td><td>0.47</td><td>0.25</td><td>0.28</td></tr>\n",
       "\t<tr><td>17/06/2018</td><td>e_1</td><td>costa rica    </td><td>serbia        </td><td>0.42</td><td>0.24</td><td>0.34</td></tr>\n",
       "\t<tr><td>17/06/2018</td><td>f_1</td><td>germany       </td><td>mexico        </td><td>0.49</td><td>0.25</td><td>0.26</td></tr>\n",
       "\t<tr><td>17/06/2018</td><td>e_2</td><td>brazil        </td><td>switzerland   </td><td>0.42</td><td>0.27</td><td>0.31</td></tr>\n",
       "\t<tr><td>18/06/2018</td><td>f_2</td><td>sweden        </td><td>korea republic</td><td>0.41</td><td>0.27</td><td>0.32</td></tr>\n",
       "\t<tr><td>18/06/2018</td><td>g_1</td><td>belgium       </td><td>panama        </td><td>0.57</td><td>0.20</td><td>0.23</td></tr>\n",
       "\t<tr><td>18/06/2018</td><td>g_2</td><td>tunisia       </td><td>england       </td><td>0.28</td><td>0.16</td><td>0.56</td></tr>\n",
       "\t<tr><td>19/06/2018</td><td>h_1</td><td>colombia      </td><td>japan         </td><td>0.41</td><td>0.24</td><td>0.35</td></tr>\n",
       "\t<tr><td>19/06/2018</td><td>h_2</td><td>poland        </td><td>senegal       </td><td>0.32</td><td>0.27</td><td>0.41</td></tr>\n",
       "\t<tr><td>19/06/2018</td><td>a_3</td><td>russia        </td><td>egypt         </td><td>0.41</td><td>0.24</td><td>0.35</td></tr>\n",
       "\t<tr><td>20/06/2018</td><td>b_3</td><td>portugal      </td><td>morocco       </td><td>0.57</td><td>0.16</td><td>0.27</td></tr>\n",
       "\t<tr><td>20/06/2018</td><td>a_4</td><td>uruguay       </td><td>saudi arabia  </td><td>0.42</td><td>0.27</td><td>0.31</td></tr>\n",
       "\t<tr><td>20/06/2018</td><td>b_4</td><td>iran          </td><td>spain         </td><td>0.26</td><td>0.25</td><td>0.49</td></tr>\n",
       "\t<tr><td>21/06/2018</td><td>c_3</td><td>denmark       </td><td>australia     </td><td>0.33</td><td>0.27</td><td>0.41</td></tr>\n",
       "\t<tr><td>21/06/2018</td><td>c_4</td><td>france        </td><td>peru          </td><td>0.46</td><td>0.25</td><td>0.28</td></tr>\n",
       "\t<tr><td>21/06/2018</td><td>d_3</td><td>argentina     </td><td>croatia       </td><td>0.37</td><td>0.24</td><td>0.39</td></tr>\n",
       "\t<tr><td>22/06/2018</td><td>e_3</td><td>brazil        </td><td>costa rica    </td><td>0.58</td><td>0.16</td><td>0.26</td></tr>\n",
       "\t<tr><td>22/06/2018</td><td>d_4</td><td>nigeria       </td><td>iceland       </td><td>0.32</td><td>0.27</td><td>0.42</td></tr>\n",
       "\t<tr><td>22/06/2018</td><td>e_4</td><td>serbia        </td><td>switzerland   </td><td>0.28</td><td>0.16</td><td>0.56</td></tr>\n",
       "\t<tr><td>23/06/2018</td><td>g_3</td><td>belgium       </td><td>tunisia       </td><td>0.57</td><td>0.16</td><td>0.27</td></tr>\n",
       "\t<tr><td>23/06/2018</td><td>f_3</td><td>korea republic</td><td>mexico        </td><td>0.24</td><td>0.25</td><td>0.51</td></tr>\n",
       "\t<tr><td>23/06/2018</td><td>f_4</td><td>germany       </td><td>sweden        </td><td>0.57</td><td>0.25</td><td>0.18</td></tr>\n",
       "\t<tr><td>24/06/2018</td><td>g_4</td><td>england       </td><td>panama        </td><td>0.58</td><td>0.16</td><td>0.26</td></tr>\n",
       "\t<tr><td>24/06/2018</td><td>h_3</td><td>japan         </td><td>senegal       </td><td>0.25</td><td>0.25</td><td>0.50</td></tr>\n",
       "\t<tr><td>24/06/2018</td><td>h_4</td><td>poland        </td><td>colombia      </td><td>0.42</td><td>0.27</td><td>0.31</td></tr>\n",
       "\t<tr><td>25/06/2018</td><td>a_5</td><td>uruguay       </td><td>russia        </td><td>0.26</td><td>0.25</td><td>0.49</td></tr>\n",
       "\t<tr><td>25/06/2018</td><td>a_6</td><td>saudi arabia  </td><td>egypt         </td><td>0.28</td><td>0.16</td><td>0.56</td></tr>\n",
       "\t<tr><td>25/06/2018</td><td>b_5</td><td>iran          </td><td>portugal      </td><td>0.26</td><td>0.25</td><td>0.49</td></tr>\n",
       "\t<tr><td>25/06/2018</td><td>b_6</td><td>spain         </td><td>morocco       </td><td>0.57</td><td>0.16</td><td>0.27</td></tr>\n",
       "\t<tr><td>26/06/2018</td><td>c_5</td><td>denmark       </td><td>france        </td><td>0.24</td><td>0.25</td><td>0.51</td></tr>\n",
       "\t<tr><td>26/06/2018</td><td>c_6</td><td>australia     </td><td>peru          </td><td>0.38</td><td>0.24</td><td>0.39</td></tr>\n",
       "\t<tr><td>26/06/2018</td><td>d_5</td><td>nigeria       </td><td>argentina     </td><td>0.29</td><td>0.25</td><td>0.46</td></tr>\n",
       "\t<tr><td>26/06/2018</td><td>d_6</td><td>iceland       </td><td>croatia       </td><td>0.32</td><td>0.27</td><td>0.42</td></tr>\n",
       "\t<tr><td>27/06/2018</td><td>f_5</td><td>mexico        </td><td>sweden        </td><td>0.46</td><td>0.25</td><td>0.28</td></tr>\n",
       "\t<tr><td>27/06/2018</td><td>f_6</td><td>korea republic</td><td>germany       </td><td>0.14</td><td>0.25</td><td>0.60</td></tr>\n",
       "\t<tr><td>27/06/2018</td><td>e_5</td><td>serbia        </td><td>brazil        </td><td>0.18</td><td>0.25</td><td>0.56</td></tr>\n",
       "\t<tr><td>27/06/2018</td><td>e_6</td><td>switzerland   </td><td>costa rica    </td><td>0.48</td><td>0.25</td><td>0.27</td></tr>\n",
       "\t<tr><td>28/06/2018</td><td>h_5</td><td>japan         </td><td>poland        </td><td>0.30</td><td>0.25</td><td>0.45</td></tr>\n",
       "\t<tr><td>28/06/2018</td><td>h_6</td><td>senegal       </td><td>colombia      </td><td>0.47</td><td>0.25</td><td>0.28</td></tr>\n",
       "\t<tr><td>28/06/2018</td><td>g_5</td><td>panama        </td><td>tunisia       </td><td>0.36</td><td>0.24</td><td>0.40</td></tr>\n",
       "\t<tr><td>28/06/2018</td><td>g_6</td><td>england       </td><td>belgium       </td><td>0.37</td><td>0.24</td><td>0.39</td></tr>\n",
       "</tbody>\n",
       "</table>\n"
      ],
      "text/latex": [
       "A tibble: 48 × 7\n",
       "\\begin{tabular}{lllllll}\n",
       " date & match\\_id & team\\_1 & team\\_2 & prob\\_team\\_1\\_win & prob\\_team\\_1\\_draw & prob\\_team\\_1\\_lose\\\\\n",
       " <chr> & <chr> & <chr> & <chr> & <dbl> & <dbl> & <dbl>\\\\\n",
       "\\hline\n",
       "\t 14/06/2018 & a\\_1 & russia         & saudi arabia   & 0.57 & 0.20 & 0.23\\\\\n",
       "\t 15/06/2018 & a\\_2 & egypt          & uruguay        & 0.46 & 0.25 & 0.29\\\\\n",
       "\t 15/06/2018 & b\\_1 & morocco        & iran           & 0.33 & 0.27 & 0.40\\\\\n",
       "\t 15/06/2018 & b\\_2 & portugal       & spain          & 0.38 & 0.24 & 0.39\\\\\n",
       "\t 16/06/2018 & c\\_1 & france         & australia      & 0.47 & 0.25 & 0.28\\\\\n",
       "\t 16/06/2018 & d\\_1 & argentina      & iceland        & 0.41 & 0.24 & 0.35\\\\\n",
       "\t 16/06/2018 & c\\_2 & peru           & denmark        & 0.41 & 0.27 & 0.32\\\\\n",
       "\t 16/06/2018 & d\\_2 & croatia        & nigeria        & 0.47 & 0.25 & 0.28\\\\\n",
       "\t 17/06/2018 & e\\_1 & costa rica     & serbia         & 0.42 & 0.24 & 0.34\\\\\n",
       "\t 17/06/2018 & f\\_1 & germany        & mexico         & 0.49 & 0.25 & 0.26\\\\\n",
       "\t 17/06/2018 & e\\_2 & brazil         & switzerland    & 0.42 & 0.27 & 0.31\\\\\n",
       "\t 18/06/2018 & f\\_2 & sweden         & korea republic & 0.41 & 0.27 & 0.32\\\\\n",
       "\t 18/06/2018 & g\\_1 & belgium        & panama         & 0.57 & 0.20 & 0.23\\\\\n",
       "\t 18/06/2018 & g\\_2 & tunisia        & england        & 0.28 & 0.16 & 0.56\\\\\n",
       "\t 19/06/2018 & h\\_1 & colombia       & japan          & 0.41 & 0.24 & 0.35\\\\\n",
       "\t 19/06/2018 & h\\_2 & poland         & senegal        & 0.32 & 0.27 & 0.41\\\\\n",
       "\t 19/06/2018 & a\\_3 & russia         & egypt          & 0.41 & 0.24 & 0.35\\\\\n",
       "\t 20/06/2018 & b\\_3 & portugal       & morocco        & 0.57 & 0.16 & 0.27\\\\\n",
       "\t 20/06/2018 & a\\_4 & uruguay        & saudi arabia   & 0.42 & 0.27 & 0.31\\\\\n",
       "\t 20/06/2018 & b\\_4 & iran           & spain          & 0.26 & 0.25 & 0.49\\\\\n",
       "\t 21/06/2018 & c\\_3 & denmark        & australia      & 0.33 & 0.27 & 0.41\\\\\n",
       "\t 21/06/2018 & c\\_4 & france         & peru           & 0.46 & 0.25 & 0.28\\\\\n",
       "\t 21/06/2018 & d\\_3 & argentina      & croatia        & 0.37 & 0.24 & 0.39\\\\\n",
       "\t 22/06/2018 & e\\_3 & brazil         & costa rica     & 0.58 & 0.16 & 0.26\\\\\n",
       "\t 22/06/2018 & d\\_4 & nigeria        & iceland        & 0.32 & 0.27 & 0.42\\\\\n",
       "\t 22/06/2018 & e\\_4 & serbia         & switzerland    & 0.28 & 0.16 & 0.56\\\\\n",
       "\t 23/06/2018 & g\\_3 & belgium        & tunisia        & 0.57 & 0.16 & 0.27\\\\\n",
       "\t 23/06/2018 & f\\_3 & korea republic & mexico         & 0.24 & 0.25 & 0.51\\\\\n",
       "\t 23/06/2018 & f\\_4 & germany        & sweden         & 0.57 & 0.25 & 0.18\\\\\n",
       "\t 24/06/2018 & g\\_4 & england        & panama         & 0.58 & 0.16 & 0.26\\\\\n",
       "\t 24/06/2018 & h\\_3 & japan          & senegal        & 0.25 & 0.25 & 0.50\\\\\n",
       "\t 24/06/2018 & h\\_4 & poland         & colombia       & 0.42 & 0.27 & 0.31\\\\\n",
       "\t 25/06/2018 & a\\_5 & uruguay        & russia         & 0.26 & 0.25 & 0.49\\\\\n",
       "\t 25/06/2018 & a\\_6 & saudi arabia   & egypt          & 0.28 & 0.16 & 0.56\\\\\n",
       "\t 25/06/2018 & b\\_5 & iran           & portugal       & 0.26 & 0.25 & 0.49\\\\\n",
       "\t 25/06/2018 & b\\_6 & spain          & morocco        & 0.57 & 0.16 & 0.27\\\\\n",
       "\t 26/06/2018 & c\\_5 & denmark        & france         & 0.24 & 0.25 & 0.51\\\\\n",
       "\t 26/06/2018 & c\\_6 & australia      & peru           & 0.38 & 0.24 & 0.39\\\\\n",
       "\t 26/06/2018 & d\\_5 & nigeria        & argentina      & 0.29 & 0.25 & 0.46\\\\\n",
       "\t 26/06/2018 & d\\_6 & iceland        & croatia        & 0.32 & 0.27 & 0.42\\\\\n",
       "\t 27/06/2018 & f\\_5 & mexico         & sweden         & 0.46 & 0.25 & 0.28\\\\\n",
       "\t 27/06/2018 & f\\_6 & korea republic & germany        & 0.14 & 0.25 & 0.60\\\\\n",
       "\t 27/06/2018 & e\\_5 & serbia         & brazil         & 0.18 & 0.25 & 0.56\\\\\n",
       "\t 27/06/2018 & e\\_6 & switzerland    & costa rica     & 0.48 & 0.25 & 0.27\\\\\n",
       "\t 28/06/2018 & h\\_5 & japan          & poland         & 0.30 & 0.25 & 0.45\\\\\n",
       "\t 28/06/2018 & h\\_6 & senegal        & colombia       & 0.47 & 0.25 & 0.28\\\\\n",
       "\t 28/06/2018 & g\\_5 & panama         & tunisia        & 0.36 & 0.24 & 0.40\\\\\n",
       "\t 28/06/2018 & g\\_6 & england        & belgium        & 0.37 & 0.24 & 0.39\\\\\n",
       "\\end{tabular}\n"
      ],
      "text/markdown": [
       "\n",
       "A tibble: 48 × 7\n",
       "\n",
       "| date &lt;chr&gt; | match_id &lt;chr&gt; | team_1 &lt;chr&gt; | team_2 &lt;chr&gt; | prob_team_1_win &lt;dbl&gt; | prob_team_1_draw &lt;dbl&gt; | prob_team_1_lose &lt;dbl&gt; |\n",
       "|---|---|---|---|---|---|---|\n",
       "| 14/06/2018 | a_1 | russia         | saudi arabia   | 0.57 | 0.20 | 0.23 |\n",
       "| 15/06/2018 | a_2 | egypt          | uruguay        | 0.46 | 0.25 | 0.29 |\n",
       "| 15/06/2018 | b_1 | morocco        | iran           | 0.33 | 0.27 | 0.40 |\n",
       "| 15/06/2018 | b_2 | portugal       | spain          | 0.38 | 0.24 | 0.39 |\n",
       "| 16/06/2018 | c_1 | france         | australia      | 0.47 | 0.25 | 0.28 |\n",
       "| 16/06/2018 | d_1 | argentina      | iceland        | 0.41 | 0.24 | 0.35 |\n",
       "| 16/06/2018 | c_2 | peru           | denmark        | 0.41 | 0.27 | 0.32 |\n",
       "| 16/06/2018 | d_2 | croatia        | nigeria        | 0.47 | 0.25 | 0.28 |\n",
       "| 17/06/2018 | e_1 | costa rica     | serbia         | 0.42 | 0.24 | 0.34 |\n",
       "| 17/06/2018 | f_1 | germany        | mexico         | 0.49 | 0.25 | 0.26 |\n",
       "| 17/06/2018 | e_2 | brazil         | switzerland    | 0.42 | 0.27 | 0.31 |\n",
       "| 18/06/2018 | f_2 | sweden         | korea republic | 0.41 | 0.27 | 0.32 |\n",
       "| 18/06/2018 | g_1 | belgium        | panama         | 0.57 | 0.20 | 0.23 |\n",
       "| 18/06/2018 | g_2 | tunisia        | england        | 0.28 | 0.16 | 0.56 |\n",
       "| 19/06/2018 | h_1 | colombia       | japan          | 0.41 | 0.24 | 0.35 |\n",
       "| 19/06/2018 | h_2 | poland         | senegal        | 0.32 | 0.27 | 0.41 |\n",
       "| 19/06/2018 | a_3 | russia         | egypt          | 0.41 | 0.24 | 0.35 |\n",
       "| 20/06/2018 | b_3 | portugal       | morocco        | 0.57 | 0.16 | 0.27 |\n",
       "| 20/06/2018 | a_4 | uruguay        | saudi arabia   | 0.42 | 0.27 | 0.31 |\n",
       "| 20/06/2018 | b_4 | iran           | spain          | 0.26 | 0.25 | 0.49 |\n",
       "| 21/06/2018 | c_3 | denmark        | australia      | 0.33 | 0.27 | 0.41 |\n",
       "| 21/06/2018 | c_4 | france         | peru           | 0.46 | 0.25 | 0.28 |\n",
       "| 21/06/2018 | d_3 | argentina      | croatia        | 0.37 | 0.24 | 0.39 |\n",
       "| 22/06/2018 | e_3 | brazil         | costa rica     | 0.58 | 0.16 | 0.26 |\n",
       "| 22/06/2018 | d_4 | nigeria        | iceland        | 0.32 | 0.27 | 0.42 |\n",
       "| 22/06/2018 | e_4 | serbia         | switzerland    | 0.28 | 0.16 | 0.56 |\n",
       "| 23/06/2018 | g_3 | belgium        | tunisia        | 0.57 | 0.16 | 0.27 |\n",
       "| 23/06/2018 | f_3 | korea republic | mexico         | 0.24 | 0.25 | 0.51 |\n",
       "| 23/06/2018 | f_4 | germany        | sweden         | 0.57 | 0.25 | 0.18 |\n",
       "| 24/06/2018 | g_4 | england        | panama         | 0.58 | 0.16 | 0.26 |\n",
       "| 24/06/2018 | h_3 | japan          | senegal        | 0.25 | 0.25 | 0.50 |\n",
       "| 24/06/2018 | h_4 | poland         | colombia       | 0.42 | 0.27 | 0.31 |\n",
       "| 25/06/2018 | a_5 | uruguay        | russia         | 0.26 | 0.25 | 0.49 |\n",
       "| 25/06/2018 | a_6 | saudi arabia   | egypt          | 0.28 | 0.16 | 0.56 |\n",
       "| 25/06/2018 | b_5 | iran           | portugal       | 0.26 | 0.25 | 0.49 |\n",
       "| 25/06/2018 | b_6 | spain          | morocco        | 0.57 | 0.16 | 0.27 |\n",
       "| 26/06/2018 | c_5 | denmark        | france         | 0.24 | 0.25 | 0.51 |\n",
       "| 26/06/2018 | c_6 | australia      | peru           | 0.38 | 0.24 | 0.39 |\n",
       "| 26/06/2018 | d_5 | nigeria        | argentina      | 0.29 | 0.25 | 0.46 |\n",
       "| 26/06/2018 | d_6 | iceland        | croatia        | 0.32 | 0.27 | 0.42 |\n",
       "| 27/06/2018 | f_5 | mexico         | sweden         | 0.46 | 0.25 | 0.28 |\n",
       "| 27/06/2018 | f_6 | korea republic | germany        | 0.14 | 0.25 | 0.60 |\n",
       "| 27/06/2018 | e_5 | serbia         | brazil         | 0.18 | 0.25 | 0.56 |\n",
       "| 27/06/2018 | e_6 | switzerland    | costa rica     | 0.48 | 0.25 | 0.27 |\n",
       "| 28/06/2018 | h_5 | japan          | poland         | 0.30 | 0.25 | 0.45 |\n",
       "| 28/06/2018 | h_6 | senegal        | colombia       | 0.47 | 0.25 | 0.28 |\n",
       "| 28/06/2018 | g_5 | panama         | tunisia        | 0.36 | 0.24 | 0.40 |\n",
       "| 28/06/2018 | g_6 | england        | belgium        | 0.37 | 0.24 | 0.39 |\n",
       "\n"
      ],
      "text/plain": [
       "   date       match_id team_1         team_2         prob_team_1_win\n",
       "1  14/06/2018 a_1      russia         saudi arabia   0.57           \n",
       "2  15/06/2018 a_2      egypt          uruguay        0.46           \n",
       "3  15/06/2018 b_1      morocco        iran           0.33           \n",
       "4  15/06/2018 b_2      portugal       spain          0.38           \n",
       "5  16/06/2018 c_1      france         australia      0.47           \n",
       "6  16/06/2018 d_1      argentina      iceland        0.41           \n",
       "7  16/06/2018 c_2      peru           denmark        0.41           \n",
       "8  16/06/2018 d_2      croatia        nigeria        0.47           \n",
       "9  17/06/2018 e_1      costa rica     serbia         0.42           \n",
       "10 17/06/2018 f_1      germany        mexico         0.49           \n",
       "11 17/06/2018 e_2      brazil         switzerland    0.42           \n",
       "12 18/06/2018 f_2      sweden         korea republic 0.41           \n",
       "13 18/06/2018 g_1      belgium        panama         0.57           \n",
       "14 18/06/2018 g_2      tunisia        england        0.28           \n",
       "15 19/06/2018 h_1      colombia       japan          0.41           \n",
       "16 19/06/2018 h_2      poland         senegal        0.32           \n",
       "17 19/06/2018 a_3      russia         egypt          0.41           \n",
       "18 20/06/2018 b_3      portugal       morocco        0.57           \n",
       "19 20/06/2018 a_4      uruguay        saudi arabia   0.42           \n",
       "20 20/06/2018 b_4      iran           spain          0.26           \n",
       "21 21/06/2018 c_3      denmark        australia      0.33           \n",
       "22 21/06/2018 c_4      france         peru           0.46           \n",
       "23 21/06/2018 d_3      argentina      croatia        0.37           \n",
       "24 22/06/2018 e_3      brazil         costa rica     0.58           \n",
       "25 22/06/2018 d_4      nigeria        iceland        0.32           \n",
       "26 22/06/2018 e_4      serbia         switzerland    0.28           \n",
       "27 23/06/2018 g_3      belgium        tunisia        0.57           \n",
       "28 23/06/2018 f_3      korea republic mexico         0.24           \n",
       "29 23/06/2018 f_4      germany        sweden         0.57           \n",
       "30 24/06/2018 g_4      england        panama         0.58           \n",
       "31 24/06/2018 h_3      japan          senegal        0.25           \n",
       "32 24/06/2018 h_4      poland         colombia       0.42           \n",
       "33 25/06/2018 a_5      uruguay        russia         0.26           \n",
       "34 25/06/2018 a_6      saudi arabia   egypt          0.28           \n",
       "35 25/06/2018 b_5      iran           portugal       0.26           \n",
       "36 25/06/2018 b_6      spain          morocco        0.57           \n",
       "37 26/06/2018 c_5      denmark        france         0.24           \n",
       "38 26/06/2018 c_6      australia      peru           0.38           \n",
       "39 26/06/2018 d_5      nigeria        argentina      0.29           \n",
       "40 26/06/2018 d_6      iceland        croatia        0.32           \n",
       "41 27/06/2018 f_5      mexico         sweden         0.46           \n",
       "42 27/06/2018 f_6      korea republic germany        0.14           \n",
       "43 27/06/2018 e_5      serbia         brazil         0.18           \n",
       "44 27/06/2018 e_6      switzerland    costa rica     0.48           \n",
       "45 28/06/2018 h_5      japan          poland         0.30           \n",
       "46 28/06/2018 h_6      senegal        colombia       0.47           \n",
       "47 28/06/2018 g_5      panama         tunisia        0.36           \n",
       "48 28/06/2018 g_6      england        belgium        0.37           \n",
       "   prob_team_1_draw prob_team_1_lose\n",
       "1  0.20             0.23            \n",
       "2  0.25             0.29            \n",
       "3  0.27             0.40            \n",
       "4  0.24             0.39            \n",
       "5  0.25             0.28            \n",
       "6  0.24             0.35            \n",
       "7  0.27             0.32            \n",
       "8  0.25             0.28            \n",
       "9  0.24             0.34            \n",
       "10 0.25             0.26            \n",
       "11 0.27             0.31            \n",
       "12 0.27             0.32            \n",
       "13 0.20             0.23            \n",
       "14 0.16             0.56            \n",
       "15 0.24             0.35            \n",
       "16 0.27             0.41            \n",
       "17 0.24             0.35            \n",
       "18 0.16             0.27            \n",
       "19 0.27             0.31            \n",
       "20 0.25             0.49            \n",
       "21 0.27             0.41            \n",
       "22 0.25             0.28            \n",
       "23 0.24             0.39            \n",
       "24 0.16             0.26            \n",
       "25 0.27             0.42            \n",
       "26 0.16             0.56            \n",
       "27 0.16             0.27            \n",
       "28 0.25             0.51            \n",
       "29 0.25             0.18            \n",
       "30 0.16             0.26            \n",
       "31 0.25             0.50            \n",
       "32 0.27             0.31            \n",
       "33 0.25             0.49            \n",
       "34 0.16             0.56            \n",
       "35 0.25             0.49            \n",
       "36 0.16             0.27            \n",
       "37 0.25             0.51            \n",
       "38 0.24             0.39            \n",
       "39 0.25             0.46            \n",
       "40 0.27             0.42            \n",
       "41 0.25             0.28            \n",
       "42 0.25             0.60            \n",
       "43 0.25             0.56            \n",
       "44 0.25             0.27            \n",
       "45 0.25             0.45            \n",
       "46 0.25             0.28            \n",
       "47 0.24             0.40            \n",
       "48 0.24             0.39            "
      ]
     },
     "metadata": {},
     "output_type": "display_data"
    }
   ],
   "source": [
    "wc_2018"
   ]
  },
  {
   "cell_type": "markdown",
   "metadata": {},
   "source": [
    "## Further\n",
    "\n",
    "Base on the ELO models and the odds result above, we can perform match simulation by fixed random seed. Hence, obtain the simulated result of group stages. \n",
    "Next, further simulations can be performed in the qualifying stage and find the predicted champion.\n"
   ]
  }
 ],
 "metadata": {
  "kernelspec": {
   "display_name": "R",
   "language": "R",
   "name": "ir"
  },
  "language_info": {
   "codemirror_mode": "r",
   "file_extension": ".r",
   "mimetype": "text/x-r-source",
   "name": "R",
   "pygments_lexer": "r",
   "version": "3.5.2"
  }
 },
 "nbformat": 4,
 "nbformat_minor": 2
}
