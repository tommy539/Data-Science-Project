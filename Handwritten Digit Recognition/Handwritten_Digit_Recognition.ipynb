{
  "nbformat": 4,
  "nbformat_minor": 0,
  "metadata": {
    "kernelspec": {
      "display_name": "Python 3",
      "language": "python",
      "name": "python3"
    },
    "language_info": {
      "codemirror_mode": {
        "name": "ipython",
        "version": 3
      },
      "file_extension": ".py",
      "mimetype": "text/x-python",
      "name": "python",
      "nbconvert_exporter": "python",
      "pygments_lexer": "ipython3",
      "version": "3.7.4"
    },
    "colab": {
      "name": "Handwritten Digit Recognition.ipynb",
      "provenance": [],
      "collapsed_sections": [],
      "include_colab_link": true
    }
  },
  "cells": [
    {
      "cell_type": "markdown",
      "metadata": {
        "id": "view-in-github",
        "colab_type": "text"
      },
      "source": [
        "<a href=\"https://colab.research.google.com/github/tommy539/Data-Science-Project/blob/master/Handwritten%20Digit%20Recognition/Handwritten_Digit_Recognition.ipynb\" target=\"_parent\"><img src=\"https://colab.research.google.com/assets/colab-badge.svg\" alt=\"Open In Colab\"/></a>"
      ]
    },
    {
      "cell_type": "markdown",
      "metadata": {
        "id": "iVJ6Y57_raax",
        "colab_type": "text"
      },
      "source": [
        "# Handwritten Digit Recognition\n",
        "\n",
        "Handwritten recognition is known as an important task that transforms a language from a raw form into digital format. This is one of the most important steps in machine learning nowadays since it allows us to explore more information created by human beings in our daily life. \n",
        "\n",
        "This project demonstrates how to read the handwritten digits and convert them into digital format with the help of machine learning. Logistic regression was firstly used to explore the dataset and KNN was the final model I used in this project with high predicting accuracy of 97%.\n",
        "\n",
        "In the first section, I would use a simpler dataset from sklearn with a low resolution (8x8 pixel) and only around 1800 digits to train with. I would use logistic regression classification and K-nearest Neighbor classification (KNN) to compare their performance on predicting handwritten digits. We will find that KNN performs much better than the logistic model - KNN gives 99% accuracy in this data while logistic was 97.1%. \n",
        "\n",
        "In the second section, I would apply the K-nearest Neighbor model to train a more complicated dataset, the famous MNIST dataset, with a higher resolution (28x28 pixel) and larger data size (n=70000). The model gives a promising result with a 97% accuracy on testing data."
      ]
    },
    {
      "cell_type": "markdown",
      "metadata": {
        "id": "Xd7OCrWCsfEk",
        "colab_type": "text"
      },
      "source": [
        "# Import Library\n",
        "Here are all the libraries used in this project."
      ]
    },
    {
      "cell_type": "code",
      "metadata": {
        "id": "-XYRJyXZraaz",
        "colab_type": "code",
        "colab": {}
      },
      "source": [
        "# digits dataset\n",
        "from sklearn.datasets import load_digits #first section\n",
        "from sklearn.datasets import fetch_openml #second section "
      ],
      "execution_count": 0,
      "outputs": []
    },
    {
      "cell_type": "code",
      "metadata": {
        "id": "04XZJstsrXoM",
        "colab_type": "code",
        "colab": {}
      },
      "source": [
        "# data manipulation\n",
        "from sklearn.model_selection import train_test_split\n",
        "import numpy as np \n",
        "import pandas as pd"
      ],
      "execution_count": 0,
      "outputs": []
    },
    {
      "cell_type": "code",
      "metadata": {
        "id": "Lhd5Xiacraa8",
        "colab_type": "code",
        "outputId": "7f7ac07d-30a0-436a-9c1a-2440f5e5dc85",
        "colab": {
          "base_uri": "https://localhost:8080/",
          "height": 71
        }
      },
      "source": [
        "# data visualisation\n",
        "import seaborn as sns\n",
        "import matplotlib.pyplot as plt\n",
        "\n",
        "# modelling\n",
        "from sklearn.linear_model import LogisticRegression # Logistic regression\n",
        "from sklearn.neighbors import KNeighborsClassifier # KNN \n",
        "from sklearn.metrics import classification_report # Result evaluation"
      ],
      "execution_count": 3,
      "outputs": [
        {
          "output_type": "stream",
          "text": [
            "/usr/local/lib/python3.6/dist-packages/statsmodels/tools/_testing.py:19: FutureWarning: pandas.util.testing is deprecated. Use the functions in the public API at pandas.testing instead.\n",
            "  import pandas.util.testing as tm\n"
          ],
          "name": "stderr"
        }
      ]
    },
    {
      "cell_type": "markdown",
      "metadata": {
        "id": "5tspnF1Es4YR",
        "colab_type": "text"
      },
      "source": [
        "# Section 1: Simple Digit dataset\n",
        "This section used a simple dataset with 8x8 pixel. Logistic regression and K-nearest Neighbor classification are used to predict the handwritten digits. "
      ]
    },
    {
      "cell_type": "markdown",
      "metadata": {
        "id": "WPAdpkUo564m",
        "colab_type": "text"
      },
      "source": [
        "## 1.1 Data loading and preview"
      ]
    },
    {
      "cell_type": "code",
      "metadata": {
        "id": "B2VVeNDzrabD",
        "colab_type": "code",
        "colab": {}
      },
      "source": [
        "# import the dataset\n",
        "digits = load_digits()"
      ],
      "execution_count": 0,
      "outputs": []
    },
    {
      "cell_type": "markdown",
      "metadata": {
        "id": "CBh8wKE1trya",
        "colab_type": "text"
      },
      "source": [
        "This dataset contains 1797 digits and 8x8 pixels."
      ]
    },
    {
      "cell_type": "code",
      "metadata": {
        "id": "rznSLyZzrabH",
        "colab_type": "code",
        "outputId": "937a0d37-189d-4926-a668-b0f6bce6159d",
        "colab": {
          "base_uri": "https://localhost:8080/",
          "height": 34
        }
      },
      "source": [
        "digits.data.shape"
      ],
      "execution_count": 5,
      "outputs": [
        {
          "output_type": "execute_result",
          "data": {
            "text/plain": [
              "(1797, 64)"
            ]
          },
          "metadata": {
            "tags": []
          },
          "execution_count": 5
        }
      ]
    },
    {
      "cell_type": "code",
      "metadata": {
        "id": "kmGXQy2srabQ",
        "colab_type": "code",
        "outputId": "64932718-c909-46f2-a50b-2fa8c6539845",
        "colab": {
          "base_uri": "https://localhost:8080/",
          "height": 34
        }
      },
      "source": [
        "digits.target.shape"
      ],
      "execution_count": 6,
      "outputs": [
        {
          "output_type": "execute_result",
          "data": {
            "text/plain": [
              "(1797,)"
            ]
          },
          "metadata": {
            "tags": []
          },
          "execution_count": 6
        }
      ]
    },
    {
      "cell_type": "markdown",
      "metadata": {
        "id": "_UhatlvkuDFi",
        "colab_type": "text"
      },
      "source": [
        "Let's have a glance at our dataset. They are indeed in low quality (blurred) comparing to what we have seen and used in our daily life. "
      ]
    },
    {
      "cell_type": "code",
      "metadata": {
        "id": "ohzLOF4EdwD7",
        "colab_type": "code",
        "colab": {}
      },
      "source": [
        ""
      ],
      "execution_count": 0,
      "outputs": []
    },
    {
      "cell_type": "code",
      "metadata": {
        "id": "Zbq4bGBarabb",
        "colab_type": "code",
        "outputId": "ab1ef163-e1ef-4229-e0be-36c80e9e0f69",
        "colab": {
          "base_uri": "https://localhost:8080/",
          "height": 310
        }
      },
      "source": [
        "plt.figure(figsize=(10,5))\n",
        "for index, (image, label) in enumerate(zip(digits.data[0:10], digits.target[0:10])):\n",
        "    plt.subplot(2, 5, index + 1)\n",
        "    plt.imshow(np.reshape(image, (8,8)), cmap='Greys')\n",
        "    plt.title('Label: %i' % label, fontsize = 15)"
      ],
      "execution_count": 7,
      "outputs": [
        {
          "output_type": "display_data",
          "data": {
            "image/png": "[encoded data removed]",
            "text/plain": [
              "<Figure size 720x360 with 10 Axes>"
            ]
          },
          "metadata": {
            "tags": [],
            "needs_background": "light"
          }
        }
      ]
    },
    {
      "cell_type": "markdown",
      "metadata": {
        "id": "u5x6nb9jrabf",
        "colab_type": "text"
      },
      "source": [
        "## 1.2 Training data and testing data splitting\n",
        "In order to perform machine learning, the dataset is divided into two sets - training data and testing data. \n",
        "\n",
        "By using the build-in function in sklearn, we can randomly split the dataset to ensure the order of data would be bias in the model training."
      ]
    },
    {
      "cell_type": "code",
      "metadata": {
        "id": "wZUquSAUXtWo",
        "colab_type": "code",
        "colab": {}
      },
      "source": [
        "x = digits.data.astype('float32')\n",
        "y = digits.target.astype('int64')\n",
        "x_train, x_test, y_train, y_test = train_test_split(x, y, test_size=0.25)"
      ],
      "execution_count": 0,
      "outputs": []
    },
    {
      "cell_type": "code",
      "metadata": {
        "id": "NBF8KEyMrabs",
        "colab_type": "code",
        "colab": {}
      },
      "source": [
        "# define a function to evaluate the predicting accuracy\n",
        "def accuracy(a,b):\n",
        "    return sum(a==b)/len(a)"
      ],
      "execution_count": 0,
      "outputs": []
    },
    {
      "cell_type": "markdown",
      "metadata": {
        "id": "94WjuLuGrabh",
        "colab_type": "text"
      },
      "source": [
        "## 1.3 Logistic Regression\n",
        "Logistic regression is one of the fundamental models in machine learning which fits the inputs in a regression formula and makes predictions by applying a sigmoid function over the result from the regression formula hence passing the result into decision boundary."
      ]
    },
    {
      "cell_type": "code",
      "metadata": {
        "id": "J_eF-OeXrabm",
        "colab_type": "code",
        "colab": {}
      },
      "source": [
        "LR_classification = LogisticRegression(multi_class='multinomial',solver='sag')"
      ],
      "execution_count": 0,
      "outputs": []
    },
    {
      "cell_type": "code",
      "metadata": {
        "id": "_chxbKZ4rabo",
        "colab_type": "code",
        "outputId": "743c783b-e8de-473a-f84c-3b044ed02dc3",
        "colab": {
          "base_uri": "https://localhost:8080/",
          "height": 156
        }
      },
      "source": [
        "LR_classification.fit(x_train,y_train)"
      ],
      "execution_count": 29,
      "outputs": [
        {
          "output_type": "stream",
          "text": [
            "/usr/local/lib/python3.6/dist-packages/sklearn/linear_model/_sag.py:330: ConvergenceWarning: The max_iter was reached which means the coef_ did not converge\n",
            "  \"the coef_ did not converge\", ConvergenceWarning)\n"
          ],
          "name": "stderr"
        },
        {
          "output_type": "execute_result",
          "data": {
            "text/plain": [
              "LogisticRegression(C=1.0, class_weight=None, dual=False, fit_intercept=True,\n",
              "                   intercept_scaling=1, l1_ratio=None, max_iter=100,\n",
              "                   multi_class='multinomial', n_jobs=None, penalty='l2',\n",
              "                   random_state=None, solver='sag', tol=0.0001, verbose=0,\n",
              "                   warm_start=False)"
            ]
          },
          "metadata": {
            "tags": []
          },
          "execution_count": 29
        }
      ]
    },
    {
      "cell_type": "code",
      "metadata": {
        "id": "6mN5PK4Yrabu",
        "colab_type": "code",
        "outputId": "7e6626be-7218-4a13-ea5b-58ee02f1fe65",
        "colab": {
          "base_uri": "https://localhost:8080/",
          "height": 34
        }
      },
      "source": [
        "accuracy(LR_classification.predict(x_test),y_test)"
      ],
      "execution_count": 30,
      "outputs": [
        {
          "output_type": "execute_result",
          "data": {
            "text/plain": [
              "0.9711111111111111"
            ]
          },
          "metadata": {
            "tags": []
          },
          "execution_count": 30
        }
      ]
    },
    {
      "cell_type": "markdown",
      "metadata": {
        "id": "DqLF1SlFQ44_",
        "colab_type": "text"
      },
      "source": [
        "Logistic regression classifier gives 97% accuracy on testing data, which is considerably a decent result. \n",
        "\n",
        "Among 1800 digits, there were 13 digits were predicted wrongly by the classifier. Here's the error cases."
      ]
    },
    {
      "cell_type": "code",
      "metadata": {
        "id": "ZY5KwkKjs2td",
        "colab_type": "code",
        "colab": {}
      },
      "source": [
        "wrong_x = x_test[LR_classification.predict(x_test) != y_test]\n",
        "wrong_y = LR_classification.predict(x_test)[LR_classification.predict(x_test) != y_test]\n",
        "correct_y = y_test[LR_classification.predict(x_test) != y_test]"
      ],
      "execution_count": 0,
      "outputs": []
    },
    {
      "cell_type": "code",
      "metadata": {
        "id": "KMLHOU6-vEhS",
        "colab_type": "code",
        "outputId": "dd3540aa-6d7c-488e-9ddb-f04d8f425d61",
        "colab": {
          "base_uri": "https://localhost:8080/",
          "height": 34
        }
      },
      "source": [
        "len(wrong_y)"
      ],
      "execution_count": 32,
      "outputs": [
        {
          "output_type": "execute_result",
          "data": {
            "text/plain": [
              "13"
            ]
          },
          "metadata": {
            "tags": []
          },
          "execution_count": 32
        }
      ]
    },
    {
      "cell_type": "code",
      "metadata": {
        "id": "5gYT1CiStIBh",
        "colab_type": "code",
        "outputId": "3b39c177-e27e-4911-e00f-46719b44fe36",
        "colab": {
          "base_uri": "https://localhost:8080/",
          "height": 363
        }
      },
      "source": [
        "plt.figure(figsize=(15,6))\n",
        "for index, (image, w_label,r_label) in enumerate(zip(wrong_x, wrong_y,correct_y)):\n",
        "    plt.subplot(len(wrong_x)//7 + 1, 7, index + 1)\n",
        "    plt.imshow(np.reshape(image, (8,8)), cmap='Greys')\n",
        "    plt.title('Actual: %i\\nPredicted: %i' % (r_label,w_label), fontsize = 15)"
      ],
      "execution_count": 38,
      "outputs": [
        {
          "output_type": "display_data",
          "data": {
            "image/png": "[encoded data removed]",
            "text/plain": [
              "<Figure size 1080x432 with 13 Axes>"
            ]
          },
          "metadata": {
            "tags": [],
            "needs_background": "light"
          }
        }
      ]
    },
    {
      "cell_type": "markdown",
      "metadata": {
        "id": "rLhQjMddrabw",
        "colab_type": "text"
      },
      "source": [
        "## 1.4 K-nearest Neighbor classification (KNN)\n",
        "So now we will use KNN model to fit the dataset. By default parameters, 5 neighbors was used in the KNN model and it gives a 98.4% accuracy on testing data, which is higher than that from the logistic regression."
      ]
    },
    {
      "cell_type": "code",
      "metadata": {
        "id": "Ok3rDXTnrabz",
        "colab_type": "code",
        "outputId": "05be48c2-22d4-4bbe-83e4-c058ebd9377a",
        "colab": {
          "base_uri": "https://localhost:8080/",
          "height": 68
        }
      },
      "source": [
        "neigh = KNeighborsClassifier()\n",
        "neigh.fit(x_train, y_train)"
      ],
      "execution_count": 0,
      "outputs": [
        {
          "output_type": "execute_result",
          "data": {
            "text/plain": [
              "KNeighborsClassifier(algorithm='auto', leaf_size=30, metric='minkowski',\n",
              "                     metric_params=None, n_jobs=None, n_neighbors=5, p=2,\n",
              "                     weights='uniform')"
            ]
          },
          "metadata": {
            "tags": []
          },
          "execution_count": 25
        }
      ]
    },
    {
      "cell_type": "code",
      "metadata": {
        "id": "zc8qBjKvrab2",
        "colab_type": "code",
        "colab": {}
      },
      "source": [
        "knn_predict_train = neigh.predict(x_train)\n",
        "knn_predict_test = neigh.predict(x_test)"
      ],
      "execution_count": 0,
      "outputs": []
    },
    {
      "cell_type": "code",
      "metadata": {
        "id": "pS6rFe12rab5",
        "colab_type": "code",
        "outputId": "04f8aceb-7235-41b3-c352-4482da8b6cba",
        "colab": {
          "base_uri": "https://localhost:8080/",
          "height": 51
        }
      },
      "source": [
        "print('Training accuracy: %.3f \\nTesting  accuracy: %.3f' \n",
        "      % (accuracy(y_train, knn_predict_train),accuracy(y_test, knn_predict_test)))"
      ],
      "execution_count": 0,
      "outputs": [
        {
          "output_type": "stream",
          "text": [
            "Training accuracy: 0.989 \n",
            "Testing  accuracy: 0.984\n"
          ],
          "name": "stdout"
        }
      ]
    },
    {
      "cell_type": "markdown",
      "metadata": {
        "id": "lIhPKpqyfG6Y",
        "colab_type": "text"
      },
      "source": [
        "To find the optimum value of K nearest neighbors, we can redo the model fitting with different values of k. As a result, we found that K = 3 gives the best result of recognising handwritten digits with 98.6% accuracy.\n",
        "\n",
        "There were only 6 digits predicted wrongly among about 1800 digits!"
      ]
    },
    {
      "cell_type": "code",
      "metadata": {
        "id": "qik_aGTjrab7",
        "colab_type": "code",
        "outputId": "0bbf8f93-32ec-41f7-89f1-aff0d0e9ac28",
        "colab": {
          "base_uri": "https://localhost:8080/",
          "height": 51
        }
      },
      "source": [
        "%%time\n",
        "## run the KNN for different k nearest neighbors\n",
        "k = []\n",
        "knn_fit = []\n",
        "train_accuracy = []\n",
        "test_accuracy = []\n",
        "predict_result = []\n",
        "for each in range(1,20):\n",
        "    neigh = KNeighborsClassifier(n_neighbors=each)\n",
        "    knn_fit.append(neigh.fit(x_train, y_train))\n",
        "    knn_predict_train = knn_fit[-1].predict(x_train)\n",
        "    knn_predict_test = neigh.predict(x_test)\n",
        "    predict_result.append(knn_predict_test)\n",
        "    k.append(each)\n",
        "    train_accuracy.append(accuracy(y_train, knn_predict_train))\n",
        "    test_accuracy.append(accuracy(y_test, knn_predict_test))"
      ],
      "execution_count": 0,
      "outputs": [
        {
          "output_type": "stream",
          "text": [
            "CPU times: user 6.77 s, sys: 12.2 ms, total: 6.78 s\n",
            "Wall time: 6.78 s\n"
          ],
          "name": "stdout"
        }
      ]
    },
    {
      "cell_type": "code",
      "metadata": {
        "id": "pSoVvkHprab_",
        "colab_type": "code",
        "colab": {}
      },
      "source": [
        "KNN_result = pd.DataFrame({'k':k,'Training_accuracy':train_accuracy,'Testing_accuracy':test_accuracy})"
      ],
      "execution_count": 0,
      "outputs": []
    },
    {
      "cell_type": "code",
      "metadata": {
        "id": "Be4FfinjracB",
        "colab_type": "code",
        "outputId": "3fbe7ffd-3a27-4826-c180-c4ddc81115f9",
        "colab": {
          "base_uri": "https://localhost:8080/",
          "height": 295
        }
      },
      "source": [
        "plt.title('KNN performance')\n",
        "knn_plot = sns.lineplot(x=\"k\", y=\"Accuracy\", hue=\"Measures\",\n",
        "             data=KNN_result.melt('k', var_name='Measures',  value_name='Accuracy'))"
      ],
      "execution_count": 0,
      "outputs": [
        {
          "output_type": "display_data",
          "data": {
            "image/png": "[encoded data removed]",
            "text/plain": [
              "<Figure size 432x288 with 1 Axes>"
            ]
          },
          "metadata": {
            "tags": [],
            "needs_background": "light"
          }
        }
      ]
    },
    {
      "cell_type": "code",
      "metadata": {
        "id": "fGoIBmjrracD",
        "colab_type": "code",
        "outputId": "5a73954e-aae3-4912-e022-2e67a184f13b",
        "colab": {
          "base_uri": "https://localhost:8080/",
          "height": 80
        }
      },
      "source": [
        "best_KNN_result = KNN_result[KNN_result.Testing_accuracy == max(test_accuracy)]\n",
        "best_KNN_k = int(list(best_KNN_result.k)[0])\n",
        "best_KNN_result"
      ],
      "execution_count": 0,
      "outputs": [
        {
          "output_type": "execute_result",
          "data": {
            "text/html": [
              "<div>\n",
              "<style scoped>\n",
              "    .dataframe tbody tr th:only-of-type {\n",
              "        vertical-align: middle;\n",
              "    }\n",
              "\n",
              "    .dataframe tbody tr th {\n",
              "        vertical-align: top;\n",
              "    }\n",
              "\n",
              "    .dataframe thead th {\n",
              "        text-align: right;\n",
              "    }\n",
              "</style>\n",
              "<table border=\"1\" class=\"dataframe\">\n",
              "  <thead>\n",
              "    <tr style=\"text-align: right;\">\n",
              "      <th></th>\n",
              "      <th>k</th>\n",
              "      <th>Training_accuracy</th>\n",
              "      <th>Testing_accuracy</th>\n",
              "    </tr>\n",
              "  </thead>\n",
              "  <tbody>\n",
              "    <tr>\n",
              "      <th>2</th>\n",
              "      <td>3</td>\n",
              "      <td>0.992576</td>\n",
              "      <td>0.986667</td>\n",
              "    </tr>\n",
              "  </tbody>\n",
              "</table>\n",
              "</div>"
            ],
            "text/plain": [
              "   k  Training_accuracy  Testing_accuracy\n",
              "2  3           0.992576          0.986667"
            ]
          },
          "metadata": {
            "tags": []
          },
          "execution_count": 31
        }
      ]
    },
    {
      "cell_type": "code",
      "metadata": {
        "id": "drqsT4uUracF",
        "colab_type": "code",
        "outputId": "68dac9ed-ddaa-46cd-df19-662058870e0d",
        "colab": {
          "base_uri": "https://localhost:8080/",
          "height": 306
        }
      },
      "source": [
        "print(classification_report(y_test, knn_fit[best_KNN_k-1].predict(x_test)))"
      ],
      "execution_count": 0,
      "outputs": [
        {
          "output_type": "stream",
          "text": [
            "              precision    recall  f1-score   support\n",
            "\n",
            "           0       1.00      1.00      1.00        47\n",
            "           1       1.00      1.00      1.00        42\n",
            "           2       1.00      1.00      1.00        49\n",
            "           3       0.94      0.97      0.96        34\n",
            "           4       1.00      0.98      0.99        59\n",
            "           5       1.00      1.00      1.00        42\n",
            "           6       1.00      1.00      1.00        49\n",
            "           7       0.95      0.97      0.96        40\n",
            "           8       0.98      1.00      0.99        41\n",
            "           9       0.98      0.94      0.96        47\n",
            "\n",
            "    accuracy                           0.99       450\n",
            "   macro avg       0.98      0.99      0.99       450\n",
            "weighted avg       0.99      0.99      0.99       450\n",
            "\n"
          ],
          "name": "stdout"
        }
      ]
    },
    {
      "cell_type": "code",
      "metadata": {
        "id": "BzMpeHJ1racI",
        "colab_type": "code",
        "colab": {}
      },
      "source": [
        "wrong_x = x_test[predict_result[best_KNN_k-1] != y_test]\n",
        "wrong_y = predict_result[best_KNN_k-1][predict_result[best_KNN_k-1] != y_test]\n",
        "correct_y = y_test[predict_result[best_KNN_k-1] != y_test]"
      ],
      "execution_count": 0,
      "outputs": []
    },
    {
      "cell_type": "markdown",
      "metadata": {
        "id": "tN77m2B6sO7E",
        "colab_type": "text"
      },
      "source": [
        "### Error cases\n",
        "Here are the 6 digits wrongly classified by KNN model among around 1800 digits."
      ]
    },
    {
      "cell_type": "code",
      "metadata": {
        "id": "mOWDBLH1racN",
        "colab_type": "code",
        "outputId": "9525d5ee-e82e-4ca4-eb47-c49c84556914",
        "cellView": "code",
        "colab": {
          "base_uri": "https://localhost:8080/",
          "height": 163
        }
      },
      "source": [
        "plt.figure(figsize=(10,5))\n",
        "for index, (image, w_label,r_label) in enumerate(zip(wrong_x, wrong_y,correct_y)):\n",
        "    plt.subplot(len(wrong_x)//6 + 1, 6, index + 1)\n",
        "    plt.imshow(np.reshape(image, (8,8)), cmap='Greys')\n",
        "    plt.title('Actual: %i\\nPredicted: %i' % (r_label,w_label), fontsize = 15)"
      ],
      "execution_count": 0,
      "outputs": [
        {
          "output_type": "display_data",
          "data": {
            "image/png": "[encoded data removed]",
            "text/plain": [
              "<Figure size 720x360 with 6 Axes>"
            ]
          },
          "metadata": {
            "tags": [],
            "needs_background": "light"
          }
        }
      ]
    },
    {
      "cell_type": "markdown",
      "metadata": {
        "id": "KvIB1qYAracP",
        "colab_type": "text"
      },
      "source": [
        "# Section 2: MNIST dataset\n",
        "From the result of section 1, we believe that KNN classifier gives a better result in recongising handwritten digits.\n",
        "\n",
        "Now, I will use a advanced dataset which has a larger data size and more detailed digits - 70000 digits with 28*28 pixel.\n",
        "## 2.1 Data loading and preview"
      ]
    },
    {
      "cell_type": "code",
      "metadata": {
        "id": "95lycm0xS1X1",
        "colab_type": "code",
        "colab": {}
      },
      "source": [
        "mnist = fetch_openml('mnist_784')"
      ],
      "execution_count": 0,
      "outputs": []
    },
    {
      "cell_type": "code",
      "metadata": {
        "id": "FcMekMU0TJTN",
        "colab_type": "code",
        "colab": {}
      },
      "source": [
        "x = mnist.data.astype('float32')\n",
        "y = mnist.target.astype('int64')\n",
        "x_train, x_test, y_train, y_test = train_test_split(x, y, test_size=0.25)"
      ],
      "execution_count": 0,
      "outputs": []
    },
    {
      "cell_type": "code",
      "metadata": {
        "id": "os5DMuqcUMQ_",
        "colab_type": "code",
        "outputId": "4d7ebb58-c7e6-4d77-e332-5247d5a15696",
        "colab": {
          "base_uri": "https://localhost:8080/",
          "height": 310
        }
      },
      "source": [
        "plt.figure(figsize=(10,5))\n",
        "for index, (image, label) in enumerate(zip(x_train[0:10], y_train[0:10])):\n",
        "    plt.subplot(2, 5, index + 1)\n",
        "    plt.imshow(np.reshape(image, (28,28)), cmap='Greys')\n",
        "    plt.title('%i' % label, fontsize = 15)"
      ],
      "execution_count": 0,
      "outputs": [
        {
          "output_type": "display_data",
          "data": {
            "image/png": "[encoded data removed]",
            "text/plain": [
              "<Figure size 720x360 with 10 Axes>"
            ]
          },
          "metadata": {
            "tags": [],
            "needs_background": "light"
          }
        }
      ]
    },
    {
      "cell_type": "markdown",
      "metadata": {
        "id": "PugjyTDvxi0x",
        "colab_type": "text"
      },
      "source": [
        "## 2.2 Model Training\n",
        "Since the dataset is much larger and with a more complicated structure, it takes longer time to train the model."
      ]
    },
    {
      "cell_type": "code",
      "metadata": {
        "id": "1epLzvTpracc",
        "colab_type": "code",
        "outputId": "9422b5c3-1e8f-4e1f-e7a8-7adebb8f7721",
        "colab": {
          "base_uri": "https://localhost:8080/",
          "height": 52
        }
      },
      "source": [
        "%%time\n",
        "from sklearn.neighbors import KNeighborsClassifier\n",
        "neigh = KNeighborsClassifier(n_neighbors = 3)\n",
        "neigh.fit(x_train, y_train)"
      ],
      "execution_count": 0,
      "outputs": [
        {
          "output_type": "stream",
          "text": [
            "CPU times: user 26 s, sys: 31.8 ms, total: 26.1 s\n",
            "Wall time: 26 s\n"
          ],
          "name": "stdout"
        }
      ]
    },
    {
      "cell_type": "code",
      "metadata": {
        "id": "GUbla7JKrace",
        "colab_type": "code",
        "outputId": "1ad90601-336e-4217-c0bf-8f0538b9f1a3",
        "colab": {
          "base_uri": "https://localhost:8080/",
          "height": 52
        }
      },
      "source": [
        "%%time\n",
        "knn_predict_train = neigh.predict(x_train)\n",
        "knn_predict_test = neigh.predict(x_test)"
      ],
      "execution_count": 0,
      "outputs": [
        {
          "output_type": "stream",
          "text": [
            "CPU times: user 1h 21min 46s, sys: 532 ms, total: 1h 21min 47s\n",
            "Wall time: 1h 21min 48s\n"
          ],
          "name": "stdout"
        }
      ]
    },
    {
      "cell_type": "markdown",
      "metadata": {
        "id": "MwunsxaDxngP",
        "colab_type": "text"
      },
      "source": [
        "## 2.3 Result\n",
        "The KNN gives a promising result with 97% accuracy."
      ]
    },
    {
      "cell_type": "code",
      "metadata": {
        "id": "K-zI2Jopracg",
        "colab_type": "code",
        "outputId": "69809e3f-6430-434a-b55e-e15acb600fe5",
        "colab": {
          "base_uri": "https://localhost:8080/",
          "height": 52
        }
      },
      "source": [
        "print('Training accuracy: %.3f \\nTesting  accuracy: %.3f' \n",
        "      % (accuracy(y_train, knn_predict_train),accuracy(y_test, knn_predict_test)))"
      ],
      "execution_count": 0,
      "outputs": [
        {
          "output_type": "stream",
          "text": [
            "Training accuracy: 0.980 \n",
            "Testing  accuracy: 0.970\n"
          ],
          "name": "stdout"
        }
      ]
    },
    {
      "cell_type": "markdown",
      "metadata": {
        "id": "AgPF0cEYx3SZ",
        "colab_type": "text"
      },
      "source": [
        "## 2.4 Error cases\n",
        "There are 529 digits predicted wrongly by KNN model. Let's have a look of some of these digits."
      ]
    },
    {
      "cell_type": "code",
      "metadata": {
        "id": "LEa_z7qDracs",
        "colab_type": "code",
        "colab": {}
      },
      "source": [
        "wrong_x = x_test[knn_predict_test != y_test]\n",
        "wrong_y = knn_predict_test[knn_predict_test!= y_test]\n",
        "correct_y = y_test[knn_predict_test != y_test]"
      ],
      "execution_count": 0,
      "outputs": []
    },
    {
      "cell_type": "code",
      "metadata": {
        "id": "9wdC8W2iract",
        "colab_type": "code",
        "outputId": "b4a22774-fbc3-4805-df5a-fb132102e0c2",
        "colab": {
          "base_uri": "https://localhost:8080/",
          "height": 34
        }
      },
      "source": [
        "len(wrong_y)"
      ],
      "execution_count": 0,
      "outputs": [
        {
          "output_type": "execute_result",
          "data": {
            "text/plain": [
              "529"
            ]
          },
          "metadata": {
            "tags": []
          },
          "execution_count": 107
        }
      ]
    },
    {
      "cell_type": "code",
      "metadata": {
        "id": "DZUXd20Mracv",
        "colab_type": "code",
        "outputId": "a8d3d97b-aba3-438b-f353-48c875255369",
        "colab": {
          "base_uri": "https://localhost:8080/",
          "height": 587
        }
      },
      "source": [
        "plt.figure(figsize=(10,10))\n",
        "for index, (image, w_label,r_label) in enumerate(zip(wrong_x[0:12], wrong_y[0:12],correct_y[0:12])):\n",
        "    plt.subplot(3, 4, index + 1)\n",
        "    plt.imshow(np.reshape(image, (28,28)), cmap='Greys')\n",
        "    plt.title('Actual: %i\\nPredicted: %i' % (r_label,w_label), fontsize = 15)"
      ],
      "execution_count": 0,
      "outputs": [
        {
          "output_type": "display_data",
          "data": {
            "image/png": "[encoded data removed]",
            "text/plain": [
              "<Figure size 720x720 with 12 Axes>"
            ]
          },
          "metadata": {
            "tags": [],
            "needs_background": "light"
          }
        }
      ]
    },
    {
      "cell_type": "markdown",
      "metadata": {
        "id": "d5FIqKjXSIu-",
        "colab_type": "text"
      },
      "source": [
        "# Summary\n",
        "In this project, we are able to recognise handwritten digits by KNN classification with a high accuracy (97%).\n",
        "\n",
        "However, there is no absolute perfect model that can suit all scenario. Instead, it depends on the situations and type of problem that we are handling with.\n",
        "\n",
        "In this handwritten digits recognition, it seems that KNN gives a much better result over the traditional parametric projection (logistic regression). This is understandable because it is just like how we understand the handwritten language. We tend to find the patterns in the handwritten language and relate them to similar patterns that we have seen or learned according to our memory. For example, when we see a digit with two 'o's, we will normally relate it as '8'. This is similar to the mechanism of KNN classifier as it also looks for feature similarity and pick the result of majority."
      ]
    },
    {
      "cell_type": "code",
      "metadata": {
        "id": "3SgI8vtVba2v",
        "colab_type": "code",
        "colab": {}
      },
      "source": [
        ""
      ],
      "execution_count": 0,
      "outputs": []
    }
  ]
}